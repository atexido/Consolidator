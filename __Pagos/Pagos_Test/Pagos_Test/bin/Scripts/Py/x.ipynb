{
 "cells": [
  {
   "cell_type": "code",
   "execution_count": 17,
   "metadata": {},
   "outputs": [
    {
     "data": {
      "text/html": [
       "<div>\n",
       "<style scoped>\n",
       "    .dataframe tbody tr th:only-of-type {\n",
       "        vertical-align: middle;\n",
       "    }\n",
       "\n",
       "    .dataframe tbody tr th {\n",
       "        vertical-align: top;\n",
       "    }\n",
       "\n",
       "    .dataframe thead th {\n",
       "        text-align: right;\n",
       "    }\n",
       "</style>\n",
       "<table border=\"1\" class=\"dataframe\">\n",
       "  <thead>\n",
       "    <tr style=\"text-align: right;\">\n",
       "      <th></th>\n",
       "      <th>Columna1</th>\n",
       "      <th>Columna2</th>\n",
       "    </tr>\n",
       "  </thead>\n",
       "  <tbody>\n",
       "    <tr>\n",
       "      <th>0</th>\n",
       "      <td>F</td>\n",
       "      <td>100</td>\n",
       "    </tr>\n",
       "    <tr>\n",
       "      <th>1</th>\n",
       "      <td>A</td>\n",
       "      <td>200</td>\n",
       "    </tr>\n",
       "  </tbody>\n",
       "</table>\n",
       "</div>"
      ],
      "text/plain": [
       "  Columna1  Columna2\n",
       "0        F       100\n",
       "1        A       200"
      ]
     },
     "execution_count": 17,
     "metadata": {},
     "output_type": "execute_result"
    }
   ],
   "source": [
    "import pandas as pd \n",
    "df = pd.DataFrame({\n",
    "    'Columna1': ['F', 'A', 'F'],\n",
    "    'Columna2': [100, 200, 50]\n",
    "})\n",
    "df3 = df.query(\"Columna1 == 'F'\")\n",
    "#df3\n",
    "df4 = df.query(\"Columna2 >= 100\")\n",
    "df4"
   ]
  },
  {
   "cell_type": "code",
   "execution_count": 5,
   "metadata": {},
   "outputs": [
    {
     "ename": "ValueError",
     "evalue": "invalid literal for int() with base 10: ''",
     "output_type": "error",
     "traceback": [
      "\u001b[1;31m---------------------------------------------------------------------------\u001b[0m",
      "\u001b[1;31mValueError\u001b[0m                                Traceback (most recent call last)",
      "\u001b[1;32mm:\\PAGOS\\__Pagos\\Pagos_Test\\Pagos_Test\\bin\\Scripts\\Py\\x.ipynb Cell 2\u001b[0m in \u001b[0;36m<cell line: 14>\u001b[1;34m()\u001b[0m\n\u001b[0;32m     <a href='vscode-notebook-cell:/m%3A/PAGOS/__Pagos/Pagos_Test/Pagos_Test/bin/Scripts/Py/x.ipynb#Y115sZmlsZQ%3D%3D?line=10'>11</a>\u001b[0m         \u001b[39mexcept\u001b[39;00m:\n\u001b[0;32m     <a href='vscode-notebook-cell:/m%3A/PAGOS/__Pagos/Pagos_Test/Pagos_Test/bin/Scripts/Py/x.ipynb#Y115sZmlsZQ%3D%3D?line=11'>12</a>\u001b[0m             \u001b[39mreturn\u001b[39;00m \u001b[39m0\u001b[39m\n\u001b[1;32m---> <a href='vscode-notebook-cell:/m%3A/PAGOS/__Pagos/Pagos_Test/Pagos_Test/bin/Scripts/Py/x.ipynb#Y115sZmlsZQ%3D%3D?line=13'>14</a>\u001b[0m normalizador(\u001b[39m'\u001b[39;49m\u001b[39m$.6600\u001b[39;49m\u001b[39m'\u001b[39;49m)\n",
      "\u001b[1;32mm:\\PAGOS\\__Pagos\\Pagos_Test\\Pagos_Test\\bin\\Scripts\\Py\\x.ipynb Cell 2\u001b[0m in \u001b[0;36mnormalizador\u001b[1;34m(numero)\u001b[0m\n\u001b[0;32m      <a href='vscode-notebook-cell:/m%3A/PAGOS/__Pagos/Pagos_Test/Pagos_Test/bin/Scripts/Py/x.ipynb#Y115sZmlsZQ%3D%3D?line=4'>5</a>\u001b[0m     numero \u001b[39m=\u001b[39m numero\u001b[39m.\u001b[39mreplace(\u001b[39m'\u001b[39m\u001b[39m,\u001b[39m\u001b[39m'\u001b[39m, \u001b[39m'\u001b[39m\u001b[39m'\u001b[39m)\n\u001b[0;32m      <a href='vscode-notebook-cell:/m%3A/PAGOS/__Pagos/Pagos_Test/Pagos_Test/bin/Scripts/Py/x.ipynb#Y115sZmlsZQ%3D%3D?line=5'>6</a>\u001b[0m     numero \u001b[39m=\u001b[39m numero\u001b[39m.\u001b[39msplit(\u001b[39m'\u001b[39m\u001b[39m.\u001b[39m\u001b[39m'\u001b[39m)[\u001b[39m0\u001b[39m]\n\u001b[1;32m----> <a href='vscode-notebook-cell:/m%3A/PAGOS/__Pagos/Pagos_Test/Pagos_Test/bin/Scripts/Py/x.ipynb#Y115sZmlsZQ%3D%3D?line=6'>7</a>\u001b[0m     \u001b[39mreturn\u001b[39;00m \u001b[39mint\u001b[39;49m(numero)\n\u001b[0;32m      <a href='vscode-notebook-cell:/m%3A/PAGOS/__Pagos/Pagos_Test/Pagos_Test/bin/Scripts/Py/x.ipynb#Y115sZmlsZQ%3D%3D?line=7'>8</a>\u001b[0m \u001b[39melse\u001b[39;00m:\n\u001b[0;32m      <a href='vscode-notebook-cell:/m%3A/PAGOS/__Pagos/Pagos_Test/Pagos_Test/bin/Scripts/Py/x.ipynb#Y115sZmlsZQ%3D%3D?line=8'>9</a>\u001b[0m     \u001b[39mtry\u001b[39;00m:\n",
      "\u001b[1;31mValueError\u001b[0m: invalid literal for int() with base 10: ''"
     ]
    }
   ],
   "source": [
    "def normalizador(numero):\n",
    "    numero = str(numero)\n",
    "    if ',' in numero or '.' in numero or '$' in numero:\n",
    "        numero = numero.replace('$', '')\n",
    "        numero = numero.replace(',', '')\n",
    "        numero = numero.split('.')[0]\n",
    "        return int(numero)\n",
    "    else:\n",
    "        try:\n",
    "            return int(numero)\n",
    "        except:\n",
    "            return 0\n",
    "\n",
    "normalizador('$.6600')"
   ]
  },
  {
   "cell_type": "code",
   "execution_count": 28,
   "metadata": {},
   "outputs": [
    {
     "ename": "ValueError",
     "evalue": "invalid literal for int() with base 10: '8843800075.0'",
     "output_type": "error",
     "traceback": [
      "\u001b[1;31m---------------------------------------------------------------------------\u001b[0m",
      "\u001b[1;31mValueError\u001b[0m                                Traceback (most recent call last)",
      "\u001b[1;32mm:\\PAGOS\\__Pagos\\Pagos_Test\\Pagos_Test\\bin\\Scripts\\Py\\x.ipynb Cell 3\u001b[0m in \u001b[0;36m<cell line: 2>\u001b[1;34m()\u001b[0m\n\u001b[0;32m      <a href='vscode-notebook-cell:/m%3A/PAGOS/__Pagos/Pagos_Test/Pagos_Test/bin/Scripts/Py/x.ipynb#Y120sZmlsZQ%3D%3D?line=0'>1</a>\u001b[0m x \u001b[39m=\u001b[39m \u001b[39m'\u001b[39m\u001b[39m8843800075.0\u001b[39m\u001b[39m'\u001b[39m\n\u001b[1;32m----> <a href='vscode-notebook-cell:/m%3A/PAGOS/__Pagos/Pagos_Test/Pagos_Test/bin/Scripts/Py/x.ipynb#Y120sZmlsZQ%3D%3D?line=1'>2</a>\u001b[0m \u001b[39mprint\u001b[39m(\u001b[39mint\u001b[39;49m(x))\n",
      "\u001b[1;31mValueError\u001b[0m: invalid literal for int() with base 10: '8843800075.0'"
     ]
    }
   ],
   "source": [
    "x = '8843800075.0'\n",
    "print(int(x))"
   ]
  },
  {
   "cell_type": "code",
   "execution_count": 26,
   "metadata": {},
   "outputs": [
    {
     "data": {
      "text/plain": [
       "100524"
      ]
     },
     "execution_count": 26,
     "metadata": {},
     "output_type": "execute_result"
    }
   ],
   "source": [
    "import re\n",
    "patron = '[0-9]+'\n",
    "def normalizador(numero):\n",
    "    numero = str(numero)\n",
    "    if len(numero) > 0: \n",
    "        valido = re.findall(patron, numero)\n",
    "        if len(valido) > 0:\n",
    "            return(int(valido[0]))\n",
    "        else:\n",
    "            return 0\n",
    "    else:\n",
    "        return 0\n",
    "    #print(valido)\n",
    "    # if ',' in numero or '.' in numero or '$' in numero:\n",
    "    #     numero = numero.replace('$', '')\n",
    "    #     numero = numero.replace(',', '')\n",
    "    #     numero = numero.split('.')[0]\n",
    "    #     return int(numero)\n",
    "    # else:\n",
    "    #     try:\n",
    "    #         return int(numero)\n",
    "    #     except:\n",
    "    #         return 0\n",
    "\n",
    "normalizador('100524.78')\n",
    "#100.524,78"
   ]
  },
  {
   "cell_type": "code",
   "execution_count": 2,
   "metadata": {},
   "outputs": [
    {
     "name": "stdout",
     "output_type": "stream",
     "text": [
      "10000\n"
     ]
    }
   ],
   "source": [
    "x = '$10,000.00'\n",
    "if ',' in x and '.' in x:\n",
    "    x = x.replace('$', '')\n",
    "    x = x.replace(',', '')\n",
    "    x = x[:-3]\n",
    "print(x)"
   ]
  },
  {
   "cell_type": "code",
   "execution_count": 2,
   "metadata": {},
   "outputs": [
    {
     "name": "stdout",
     "output_type": "stream",
     "text": [
      "25879\n"
     ]
    }
   ],
   "source": [
    "x = '25879.0'\n",
    "print(x.split('.')[0])"
   ]
  },
  {
   "cell_type": "code",
   "execution_count": 7,
   "metadata": {},
   "outputs": [
    {
     "name": "stdout",
     "output_type": "stream",
     "text": [
      "202907793\n"
     ]
    }
   ],
   "source": [
    "import re\n",
    "y = '20290779CD3'\n",
    "patron = '[0-9]+'\n",
    "valido = re.findall(patron, y)\n",
    "print(''.join(valido))"
   ]
  },
  {
   "cell_type": "code",
   "execution_count": 1,
   "metadata": {},
   "outputs": [
    {
     "name": "stdout",
     "output_type": "stream",
     "text": [
      "está el 2\n"
     ]
    }
   ],
   "source": [
    "lista = [1,2,3]\n",
    "if 2 in lista:\n",
    "    print('está el 2')"
   ]
  },
  {
   "cell_type": "code",
   "execution_count": 7,
   "metadata": {},
   "outputs": [
    {
     "name": "stdout",
     "output_type": "stream",
     "text": [
      "['1132', '3759', '0']\n",
      "['1132', '3759']\n",
      "11323759\n"
     ]
    }
   ],
   "source": [
    "import re\n",
    "i='1132C3759.0'\n",
    "patron = '[0-9]+'\n",
    "i = str(i)\n",
    "valido = re.findall(patron, i)\n",
    "print(valido)\n",
    "valido = [i for i in valido if i != '0']\n",
    "print(valido)\n",
    "print(int(''.join(valido)))"
   ]
  },
  {
   "cell_type": "code",
   "execution_count": 4,
   "metadata": {},
   "outputs": [
    {
     "data": {
      "text/html": [
       "<div>\n",
       "<style scoped>\n",
       "    .dataframe tbody tr th:only-of-type {\n",
       "        vertical-align: middle;\n",
       "    }\n",
       "\n",
       "    .dataframe tbody tr th {\n",
       "        vertical-align: top;\n",
       "    }\n",
       "\n",
       "    .dataframe thead th {\n",
       "        text-align: right;\n",
       "    }\n",
       "</style>\n",
       "<table border=\"1\" class=\"dataframe\">\n",
       "  <thead>\n",
       "    <tr style=\"text-align: right;\">\n",
       "      <th></th>\n",
       "      <th>Col1</th>\n",
       "    </tr>\n",
       "  </thead>\n",
       "  <tbody>\n",
       "    <tr>\n",
       "      <th>0</th>\n",
       "      <td>1</td>\n",
       "    </tr>\n",
       "    <tr>\n",
       "      <th>1</th>\n",
       "      <td>2</td>\n",
       "    </tr>\n",
       "    <tr>\n",
       "      <th>2</th>\n",
       "      <td>3</td>\n",
       "    </tr>\n",
       "  </tbody>\n",
       "</table>\n",
       "</div>"
      ],
      "text/plain": [
       "   Col1\n",
       "0     1\n",
       "1     2\n",
       "2     3"
      ]
     },
     "metadata": {},
     "output_type": "display_data"
    },
    {
     "data": {
      "text/html": [
       "<div>\n",
       "<style scoped>\n",
       "    .dataframe tbody tr th:only-of-type {\n",
       "        vertical-align: middle;\n",
       "    }\n",
       "\n",
       "    .dataframe tbody tr th {\n",
       "        vertical-align: top;\n",
       "    }\n",
       "\n",
       "    .dataframe thead th {\n",
       "        text-align: right;\n",
       "    }\n",
       "</style>\n",
       "<table border=\"1\" class=\"dataframe\">\n",
       "  <thead>\n",
       "    <tr style=\"text-align: right;\">\n",
       "      <th></th>\n",
       "      <th>Col1</th>\n",
       "    </tr>\n",
       "  </thead>\n",
       "  <tbody>\n",
       "    <tr>\n",
       "      <th>0</th>\n",
       "      <td>3</td>\n",
       "    </tr>\n",
       "    <tr>\n",
       "      <th>1</th>\n",
       "      <td>4</td>\n",
       "    </tr>\n",
       "    <tr>\n",
       "      <th>2</th>\n",
       "      <td>5</td>\n",
       "    </tr>\n",
       "  </tbody>\n",
       "</table>\n",
       "</div>"
      ],
      "text/plain": [
       "   Col1\n",
       "0     3\n",
       "1     4\n",
       "2     5"
      ]
     },
     "metadata": {},
     "output_type": "display_data"
    },
    {
     "data": {
      "text/html": [
       "<div>\n",
       "<style scoped>\n",
       "    .dataframe tbody tr th:only-of-type {\n",
       "        vertical-align: middle;\n",
       "    }\n",
       "\n",
       "    .dataframe tbody tr th {\n",
       "        vertical-align: top;\n",
       "    }\n",
       "\n",
       "    .dataframe thead th {\n",
       "        text-align: right;\n",
       "    }\n",
       "</style>\n",
       "<table border=\"1\" class=\"dataframe\">\n",
       "  <thead>\n",
       "    <tr style=\"text-align: right;\">\n",
       "      <th></th>\n",
       "      <th>Col1</th>\n",
       "    </tr>\n",
       "  </thead>\n",
       "  <tbody>\n",
       "    <tr>\n",
       "      <th>0</th>\n",
       "      <td>3</td>\n",
       "    </tr>\n",
       "  </tbody>\n",
       "</table>\n",
       "</div>"
      ],
      "text/plain": [
       "   Col1\n",
       "0     3"
      ]
     },
     "metadata": {},
     "output_type": "display_data"
    }
   ],
   "source": [
    "import pandas as pd \n",
    "df1 = pd.DataFrame({ 'Col1': [1,2,3] })\n",
    "df2 = pd.DataFrame({ 'Col1': [3,4,5]})\n",
    "display(df1)\n",
    "display(df2)\n",
    "df3 = df1.merge(df2, how='inner', on='Col1')\n",
    "display(df3)"
   ]
  },
  {
   "cell_type": "code",
   "execution_count": 2,
   "metadata": {},
   "outputs": [
    {
     "name": "stdout",
     "output_type": "stream",
     "text": [
      "['cierre noviembre 2022.xlsx', 'unificado de pagos noviembre.xlsx']\n",
      "unificado de pagos noviembre.xlsx\n"
     ]
    }
   ],
   "source": [
    "import os \n",
    "lista_unificados = os.listdir(f'M:/PAGOS/__Pagos/Pagos_Test/Pagos_Test/bin/Temp/MejorCredito/Sucursal')\n",
    "lista_unificados = [i.lower() for i in lista_unificados]\n",
    "print(lista_unificados)\n",
    "cierre = [i for i in lista_unificados if 'unificado' in i]\n",
    "print(cierre[0])"
   ]
  },
  {
   "cell_type": "code",
   "execution_count": 6,
   "metadata": {},
   "outputs": [
    {
     "name": "stdout",
     "output_type": "stream",
     "text": [
      "Hay un cierre\n"
     ]
    }
   ],
   "source": [
    "for i in lista_unificados:\n",
    "    if 'cierre' in i:\n",
    "        print('Hay un cierre')"
   ]
  },
  {
   "cell_type": "code",
   "execution_count": 7,
   "metadata": {},
   "outputs": [],
   "source": [
    "if 'cierre' in lista_unificados:\n",
    "    print('Hay un cierre')"
   ]
  },
  {
   "cell_type": "code",
   "execution_count": 3,
   "metadata": {},
   "outputs": [
    {
     "name": "stdout",
     "output_type": "stream",
     "text": [
      "        DNI  IMPORTE\n",
      "0  33273611    21580\n",
      "1  33273611    20000\n"
     ]
    }
   ],
   "source": [
    "import pandas as pd \n",
    "df = pd.DataFrame({'DNI': [33273611, 33273611], 'IMPORTE': [21580, 20000]})\n",
    "print(df)"
   ]
  },
  {
   "cell_type": "code",
   "execution_count": 8,
   "metadata": {},
   "outputs": [
    {
     "name": "stdout",
     "output_type": "stream",
     "text": [
      "33273611\n",
      "33273611\n"
     ]
    },
    {
     "data": {
      "text/html": [
       "<div>\n",
       "<style scoped>\n",
       "    .dataframe tbody tr th:only-of-type {\n",
       "        vertical-align: middle;\n",
       "    }\n",
       "\n",
       "    .dataframe tbody tr th {\n",
       "        vertical-align: top;\n",
       "    }\n",
       "\n",
       "    .dataframe thead th {\n",
       "        text-align: right;\n",
       "    }\n",
       "</style>\n",
       "<table border=\"1\" class=\"dataframe\">\n",
       "  <thead>\n",
       "    <tr style=\"text-align: right;\">\n",
       "      <th></th>\n",
       "      <th>DNI</th>\n",
       "      <th>IMPORTE</th>\n",
       "      <th>CONTEO</th>\n",
       "    </tr>\n",
       "  </thead>\n",
       "  <tbody>\n",
       "    <tr>\n",
       "      <th>0</th>\n",
       "      <td>33273611</td>\n",
       "      <td>21580</td>\n",
       "      <td>0</td>\n",
       "    </tr>\n",
       "    <tr>\n",
       "      <th>1</th>\n",
       "      <td>33273611</td>\n",
       "      <td>20000</td>\n",
       "      <td>0</td>\n",
       "    </tr>\n",
       "  </tbody>\n",
       "</table>\n",
       "</div>"
      ],
      "text/plain": [
       "        DNI  IMPORTE  CONTEO\n",
       "0  33273611    21580       0\n",
       "1  33273611    20000       0"
      ]
     },
     "execution_count": 8,
     "metadata": {},
     "output_type": "execute_result"
    }
   ],
   "source": [
    "#Tengo que crear una nueva columna con la cantidad de veces que se repite\n",
    "contador = 0\n",
    "def conteo(i):\n",
    "    global contador \n",
    "    if contador == 0:\n",
    "        base = df.iloc[contador][0]\n",
    "        print(base)\n",
    "        return contador\n",
    "    else:\n",
    "        return 'Otro num'\n",
    "    contador += 1\n",
    "    \n",
    "df['CONTEO'] = df['DNI'].apply(conteo)\n",
    "df "
   ]
  },
  {
   "cell_type": "code",
   "execution_count": 88,
   "metadata": {},
   "outputs": [
    {
     "data": {
      "text/html": [
       "<div>\n",
       "<style scoped>\n",
       "    .dataframe tbody tr th:only-of-type {\n",
       "        vertical-align: middle;\n",
       "    }\n",
       "\n",
       "    .dataframe tbody tr th {\n",
       "        vertical-align: top;\n",
       "    }\n",
       "\n",
       "    .dataframe thead th {\n",
       "        text-align: right;\n",
       "    }\n",
       "</style>\n",
       "<table border=\"1\" class=\"dataframe\">\n",
       "  <thead>\n",
       "    <tr style=\"text-align: right;\">\n",
       "      <th></th>\n",
       "      <th>DNI</th>\n",
       "      <th>STATUS</th>\n",
       "      <th>DF</th>\n",
       "    </tr>\n",
       "  </thead>\n",
       "  <tbody>\n",
       "    <tr>\n",
       "      <th>0</th>\n",
       "      <td>33273611</td>\n",
       "      <td>Válido</td>\n",
       "      <td>1</td>\n",
       "    </tr>\n",
       "    <tr>\n",
       "      <th>1</th>\n",
       "      <td>33273611</td>\n",
       "      <td>Válido</td>\n",
       "      <td>1</td>\n",
       "    </tr>\n",
       "  </tbody>\n",
       "</table>\n",
       "</div>"
      ],
      "text/plain": [
       "        DNI  STATUS  DF\n",
       "0  33273611  Válido   1\n",
       "1  33273611  Válido   1"
      ]
     },
     "metadata": {},
     "output_type": "display_data"
    },
    {
     "data": {
      "text/html": [
       "<div>\n",
       "<style scoped>\n",
       "    .dataframe tbody tr th:only-of-type {\n",
       "        vertical-align: middle;\n",
       "    }\n",
       "\n",
       "    .dataframe tbody tr th {\n",
       "        vertical-align: top;\n",
       "    }\n",
       "\n",
       "    .dataframe thead th {\n",
       "        text-align: right;\n",
       "    }\n",
       "</style>\n",
       "<table border=\"1\" class=\"dataframe\">\n",
       "  <thead>\n",
       "    <tr style=\"text-align: right;\">\n",
       "      <th></th>\n",
       "      <th>DNI</th>\n",
       "      <th>MONTO</th>\n",
       "      <th>DF</th>\n",
       "    </tr>\n",
       "  </thead>\n",
       "  <tbody>\n",
       "    <tr>\n",
       "      <th>0</th>\n",
       "      <td>33273611</td>\n",
       "      <td>21580</td>\n",
       "      <td>2</td>\n",
       "    </tr>\n",
       "    <tr>\n",
       "      <th>1</th>\n",
       "      <td>33273611</td>\n",
       "      <td>20000</td>\n",
       "      <td>2</td>\n",
       "    </tr>\n",
       "    <tr>\n",
       "      <th>2</th>\n",
       "      <td>33273611</td>\n",
       "      <td>20000</td>\n",
       "      <td>2</td>\n",
       "    </tr>\n",
       "    <tr>\n",
       "      <th>3</th>\n",
       "      <td>1</td>\n",
       "      <td>10</td>\n",
       "      <td>2</td>\n",
       "    </tr>\n",
       "    <tr>\n",
       "      <th>4</th>\n",
       "      <td>1</td>\n",
       "      <td>10</td>\n",
       "      <td>2</td>\n",
       "    </tr>\n",
       "  </tbody>\n",
       "</table>\n",
       "</div>"
      ],
      "text/plain": [
       "        DNI  MONTO  DF\n",
       "0  33273611  21580   2\n",
       "1  33273611  20000   2\n",
       "2  33273611  20000   2\n",
       "3         1     10   2\n",
       "4         1     10   2"
      ]
     },
     "metadata": {},
     "output_type": "display_data"
    }
   ],
   "source": [
    "import pandas as pd \n",
    "df1 = pd.DataFrame({\n",
    "    'DNI': [33273611, 33273611],\n",
    "    'STATUS': ['Válido', 'Válido'],\n",
    "    'DF': [1, 1]\n",
    "})\n",
    "#df1 = df1[['DNI']]\n",
    "display(df1)\n",
    "df2 = pd.DataFrame({\n",
    "    'DNI': [33273611, 33273611, 33273611, 1, 1],\n",
    "    'MONTO': [21580, 20000, 20000, 10, 10],\n",
    "    'DF': [2, 2, 2, 2, 2]\n",
    "})\n",
    "#df2 = df2[['DNI', 'MONTO']]\n",
    "display(df2)"
   ]
  },
  {
   "cell_type": "code",
   "execution_count": 89,
   "metadata": {},
   "outputs": [
    {
     "name": "stdout",
     "output_type": "stream",
     "text": [
      "[33273611, 33273611]\n"
     ]
    }
   ],
   "source": [
    "lista_validos = list(df1['DNI'])\n",
    "print(lista_validos)"
   ]
  },
  {
   "cell_type": "code",
   "execution_count": 90,
   "metadata": {},
   "outputs": [
    {
     "data": {
      "text/html": [
       "<div>\n",
       "<style scoped>\n",
       "    .dataframe tbody tr th:only-of-type {\n",
       "        vertical-align: middle;\n",
       "    }\n",
       "\n",
       "    .dataframe tbody tr th {\n",
       "        vertical-align: top;\n",
       "    }\n",
       "\n",
       "    .dataframe thead th {\n",
       "        text-align: right;\n",
       "    }\n",
       "</style>\n",
       "<table border=\"1\" class=\"dataframe\">\n",
       "  <thead>\n",
       "    <tr style=\"text-align: right;\">\n",
       "      <th></th>\n",
       "      <th>DNI</th>\n",
       "      <th>MONTO</th>\n",
       "    </tr>\n",
       "  </thead>\n",
       "  <tbody>\n",
       "    <tr>\n",
       "      <th>0</th>\n",
       "      <td>33273611</td>\n",
       "      <td>21580</td>\n",
       "    </tr>\n",
       "    <tr>\n",
       "      <th>0</th>\n",
       "      <td>33273611</td>\n",
       "      <td>20000</td>\n",
       "    </tr>\n",
       "  </tbody>\n",
       "</table>\n",
       "</div>"
      ],
      "text/plain": [
       "        DNI  MONTO\n",
       "0  33273611  21580\n",
       "0  33273611  20000"
      ]
     },
     "execution_count": 90,
     "metadata": {},
     "output_type": "execute_result"
    }
   ],
   "source": [
    "#Comparo df2 con la lista de dni de df1. Si está en la lista, entonces el registro\n",
    "#se agrega a un nuevo dataframe\n",
    "df_nuevo = pd.DataFrame({\n",
    "    'DNI': [],\n",
    "    'MONTO': []\n",
    "})\n",
    "for i in range(len(df2)):\n",
    "    if df2.iloc[i]['DNI'] in lista_validos:\n",
    "        registro = pd.DataFrame({\n",
    "            'DNI': [df2.iloc[i]['DNI']],\n",
    "            'MONTO': [df2.iloc[i]['MONTO']],\n",
    "            })\n",
    "        df_nuevo = pd.concat([df_nuevo, registro])\n",
    "        #Elimino el dni de la lista\n",
    "        lista_validos.remove(df2.iloc[i]['DNI'])\n",
    "df_nuevo = df_nuevo.astype(int)\n",
    "df_nuevo"
   ]
  },
  {
   "cell_type": "code",
   "execution_count": 57,
   "metadata": {},
   "outputs": [],
   "source": [
    "# def funcion(x, y):\n",
    "#     if x in lista_validos:\n",
    "#         return y\n",
    "# #df1['NUEVA'] = df2.apply(lambda x: df2(x.DNI, x.MONTO), axis=1)\n",
    "# df2['NUEVA'] = df2.apply(lambda x: df2(x.DNI, x.MONTO), axis=1) "
   ]
  },
  {
   "cell_type": "code",
   "execution_count": 37,
   "metadata": {},
   "outputs": [],
   "source": [
    "#df_merge = df1.merge(df2, on='DNI', how='left')\n",
    "#df_merge"
   ]
  },
  {
   "cell_type": "code",
   "execution_count": 38,
   "metadata": {},
   "outputs": [
    {
     "data": {
      "text/html": [
       "<div>\n",
       "<style scoped>\n",
       "    .dataframe tbody tr th:only-of-type {\n",
       "        vertical-align: middle;\n",
       "    }\n",
       "\n",
       "    .dataframe tbody tr th {\n",
       "        vertical-align: top;\n",
       "    }\n",
       "\n",
       "    .dataframe thead th {\n",
       "        text-align: right;\n",
       "    }\n",
       "</style>\n",
       "<table border=\"1\" class=\"dataframe\">\n",
       "  <thead>\n",
       "    <tr style=\"text-align: right;\">\n",
       "      <th></th>\n",
       "      <th>DNI</th>\n",
       "      <th>STATUS</th>\n",
       "      <th>DF</th>\n",
       "      <th>MONTO</th>\n",
       "    </tr>\n",
       "  </thead>\n",
       "  <tbody>\n",
       "    <tr>\n",
       "      <th>0</th>\n",
       "      <td>33273611</td>\n",
       "      <td>Válido</td>\n",
       "      <td>1</td>\n",
       "      <td>NaN</td>\n",
       "    </tr>\n",
       "    <tr>\n",
       "      <th>1</th>\n",
       "      <td>33273611</td>\n",
       "      <td>Válido</td>\n",
       "      <td>1</td>\n",
       "      <td>NaN</td>\n",
       "    </tr>\n",
       "    <tr>\n",
       "      <th>0</th>\n",
       "      <td>33273611</td>\n",
       "      <td>NaN</td>\n",
       "      <td>2</td>\n",
       "      <td>21580.0</td>\n",
       "    </tr>\n",
       "    <tr>\n",
       "      <th>1</th>\n",
       "      <td>33273611</td>\n",
       "      <td>NaN</td>\n",
       "      <td>2</td>\n",
       "      <td>20000.0</td>\n",
       "    </tr>\n",
       "    <tr>\n",
       "      <th>2</th>\n",
       "      <td>33273611</td>\n",
       "      <td>NaN</td>\n",
       "      <td>2</td>\n",
       "      <td>20000.0</td>\n",
       "    </tr>\n",
       "    <tr>\n",
       "      <th>3</th>\n",
       "      <td>1</td>\n",
       "      <td>NaN</td>\n",
       "      <td>2</td>\n",
       "      <td>10.0</td>\n",
       "    </tr>\n",
       "    <tr>\n",
       "      <th>4</th>\n",
       "      <td>1</td>\n",
       "      <td>NaN</td>\n",
       "      <td>2</td>\n",
       "      <td>10.0</td>\n",
       "    </tr>\n",
       "  </tbody>\n",
       "</table>\n",
       "</div>"
      ],
      "text/plain": [
       "        DNI  STATUS  DF    MONTO\n",
       "0  33273611  Válido   1      NaN\n",
       "1  33273611  Válido   1      NaN\n",
       "0  33273611     NaN   2  21580.0\n",
       "1  33273611     NaN   2  20000.0\n",
       "2  33273611     NaN   2  20000.0\n",
       "3         1     NaN   2     10.0\n",
       "4         1     NaN   2     10.0"
      ]
     },
     "execution_count": 38,
     "metadata": {},
     "output_type": "execute_result"
    }
   ],
   "source": [
    "df_concat = pd.concat([df1, df2])\n",
    "df_concat"
   ]
  },
  {
   "cell_type": "code",
   "execution_count": null,
   "metadata": {},
   "outputs": [],
   "source": [
    "#Comparación entre dfs\n"
   ]
  },
  {
   "cell_type": "code",
   "execution_count": 39,
   "metadata": {},
   "outputs": [
    {
     "data": {
      "text/html": [
       "<div>\n",
       "<style scoped>\n",
       "    .dataframe tbody tr th:only-of-type {\n",
       "        vertical-align: middle;\n",
       "    }\n",
       "\n",
       "    .dataframe tbody tr th {\n",
       "        vertical-align: top;\n",
       "    }\n",
       "\n",
       "    .dataframe thead th {\n",
       "        text-align: right;\n",
       "    }\n",
       "</style>\n",
       "<table border=\"1\" class=\"dataframe\">\n",
       "  <thead>\n",
       "    <tr style=\"text-align: right;\">\n",
       "      <th></th>\n",
       "      <th>DNI</th>\n",
       "      <th>STATUS</th>\n",
       "      <th>DF</th>\n",
       "      <th>MONTO</th>\n",
       "    </tr>\n",
       "  </thead>\n",
       "  <tbody>\n",
       "    <tr>\n",
       "      <th>0</th>\n",
       "      <td>33273611</td>\n",
       "      <td>Válido</td>\n",
       "      <td>2</td>\n",
       "      <td>21580.0</td>\n",
       "    </tr>\n",
       "    <tr>\n",
       "      <th>1</th>\n",
       "      <td>33273611</td>\n",
       "      <td>Válido</td>\n",
       "      <td>2</td>\n",
       "      <td>20000.0</td>\n",
       "    </tr>\n",
       "    <tr>\n",
       "      <th>2</th>\n",
       "      <td>33273611</td>\n",
       "      <td>Válido</td>\n",
       "      <td>2</td>\n",
       "      <td>20000.0</td>\n",
       "    </tr>\n",
       "    <tr>\n",
       "      <th>3</th>\n",
       "      <td>1</td>\n",
       "      <td>Válido</td>\n",
       "      <td>2</td>\n",
       "      <td>10.0</td>\n",
       "    </tr>\n",
       "    <tr>\n",
       "      <th>4</th>\n",
       "      <td>1</td>\n",
       "      <td>Válido</td>\n",
       "      <td>2</td>\n",
       "      <td>10.0</td>\n",
       "    </tr>\n",
       "  </tbody>\n",
       "</table>\n",
       "</div>"
      ],
      "text/plain": [
       "        DNI  STATUS  DF    MONTO\n",
       "0  33273611  Válido   2  21580.0\n",
       "1  33273611  Válido   2  20000.0\n",
       "2  33273611  Válido   2  20000.0\n",
       "3         1  Válido   2     10.0\n",
       "4         1  Válido   2     10.0"
      ]
     },
     "execution_count": 39,
     "metadata": {},
     "output_type": "execute_result"
    }
   ],
   "source": [
    "df_concat.dropna(subset=['MONTO'], inplace=True)\n",
    "#df_concat['STATUS'] = 'Válido'\n",
    "df_concat"
   ]
  },
  {
   "cell_type": "code",
   "execution_count": 32,
   "metadata": {},
   "outputs": [],
   "source": [
    "import pandas as pd \n",
    "df_unificado = pd.read_excel(f'M:/PAGOS/__Pagos/Pagos_Test/Pagos_Test/bin/Temp/MejorCredito/Sucursal/UNIFICADO DE PAGOS NOVIEMBRE.xlsx', usecols=['DNI', 'IMPORTE'])"
   ]
  },
  {
   "cell_type": "code",
   "execution_count": 28,
   "metadata": {},
   "outputs": [
    {
     "data": {
      "text/html": [
       "<div>\n",
       "<style scoped>\n",
       "    .dataframe tbody tr th:only-of-type {\n",
       "        vertical-align: middle;\n",
       "    }\n",
       "\n",
       "    .dataframe tbody tr th {\n",
       "        vertical-align: top;\n",
       "    }\n",
       "\n",
       "    .dataframe thead th {\n",
       "        text-align: right;\n",
       "    }\n",
       "</style>\n",
       "<table border=\"1\" class=\"dataframe\">\n",
       "  <thead>\n",
       "    <tr style=\"text-align: right;\">\n",
       "      <th></th>\n",
       "      <th>DNI</th>\n",
       "      <th>IMPORTE</th>\n",
       "    </tr>\n",
       "  </thead>\n",
       "  <tbody>\n",
       "    <tr>\n",
       "      <th>0</th>\n",
       "      <td>17340736</td>\n",
       "      <td>15645.0</td>\n",
       "    </tr>\n",
       "    <tr>\n",
       "      <th>1</th>\n",
       "      <td>32055633</td>\n",
       "      <td>5400.0</td>\n",
       "    </tr>\n",
       "    <tr>\n",
       "      <th>2</th>\n",
       "      <td>6416621</td>\n",
       "      <td>14260.0</td>\n",
       "    </tr>\n",
       "    <tr>\n",
       "      <th>3</th>\n",
       "      <td>20041726</td>\n",
       "      <td>11170.0</td>\n",
       "    </tr>\n",
       "    <tr>\n",
       "      <th>4</th>\n",
       "      <td>18220228</td>\n",
       "      <td>7500.0</td>\n",
       "    </tr>\n",
       "  </tbody>\n",
       "</table>\n",
       "</div>"
      ],
      "text/plain": [
       "        DNI  IMPORTE\n",
       "0  17340736  15645.0\n",
       "1  32055633   5400.0\n",
       "2   6416621  14260.0\n",
       "3  20041726  11170.0\n",
       "4  18220228   7500.0"
      ]
     },
     "execution_count": 28,
     "metadata": {},
     "output_type": "execute_result"
    }
   ],
   "source": [
    "df_unificado.head()"
   ]
  },
  {
   "cell_type": "code",
   "execution_count": 33,
   "metadata": {},
   "outputs": [
    {
     "name": "stdout",
     "output_type": "stream",
     "text": [
      "[17766443, 28759437, 29754764, 29236621, 43414596, 41146270, 24109496, 16802248, 22966060, 43414596]\n"
     ]
    }
   ],
   "source": [
    "df = pd.DataFrame({\n",
    "    'DNI': [17766443, 28759437, 29754764, 29236621, 43414596,\n",
    "    41146270, 24109496, 16802248, 22966060, 43414596]\n",
    "})\n",
    "lista_dnis = list(df['DNI'])\n",
    "print(lista_dnis)"
   ]
  },
  {
   "cell_type": "code",
   "execution_count": 34,
   "metadata": {},
   "outputs": [
    {
     "data": {
      "text/html": [
       "<div>\n",
       "<style scoped>\n",
       "    .dataframe tbody tr th:only-of-type {\n",
       "        vertical-align: middle;\n",
       "    }\n",
       "\n",
       "    .dataframe tbody tr th {\n",
       "        vertical-align: top;\n",
       "    }\n",
       "\n",
       "    .dataframe thead th {\n",
       "        text-align: right;\n",
       "    }\n",
       "</style>\n",
       "<table border=\"1\" class=\"dataframe\">\n",
       "  <thead>\n",
       "    <tr style=\"text-align: right;\">\n",
       "      <th></th>\n",
       "      <th>DNI</th>\n",
       "      <th>IMPORTE</th>\n",
       "      <th>STATUS</th>\n",
       "      <th>Operador</th>\n",
       "    </tr>\n",
       "  </thead>\n",
       "  <tbody>\n",
       "    <tr>\n",
       "      <th>0</th>\n",
       "      <td>17766443.0</td>\n",
       "      <td>15359.0</td>\n",
       "      <td>Válido por Unificado</td>\n",
       "      <td>Melanie Gonzalez</td>\n",
       "    </tr>\n",
       "    <tr>\n",
       "      <th>0</th>\n",
       "      <td>29236621.0</td>\n",
       "      <td>20000.0</td>\n",
       "      <td>Válido por Unificado</td>\n",
       "      <td>Melanie Gonzalez</td>\n",
       "    </tr>\n",
       "    <tr>\n",
       "      <th>0</th>\n",
       "      <td>41146270.0</td>\n",
       "      <td>11000.0</td>\n",
       "      <td>Válido por Unificado</td>\n",
       "      <td>Melanie Gonzalez</td>\n",
       "    </tr>\n",
       "    <tr>\n",
       "      <th>0</th>\n",
       "      <td>24109496.0</td>\n",
       "      <td>20000.0</td>\n",
       "      <td>Válido por Unificado</td>\n",
       "      <td>Melanie Gonzalez</td>\n",
       "    </tr>\n",
       "  </tbody>\n",
       "</table>\n",
       "</div>"
      ],
      "text/plain": [
       "          DNI  IMPORTE                STATUS          Operador\n",
       "0  17766443.0  15359.0  Válido por Unificado  Melanie Gonzalez\n",
       "0  29236621.0  20000.0  Válido por Unificado  Melanie Gonzalez\n",
       "0  41146270.0  11000.0  Válido por Unificado  Melanie Gonzalez\n",
       "0  24109496.0  20000.0  Válido por Unificado  Melanie Gonzalez"
      ]
     },
     "metadata": {},
     "output_type": "display_data"
    },
    {
     "data": {
      "text/html": [
       "<div>\n",
       "<style scoped>\n",
       "    .dataframe tbody tr th:only-of-type {\n",
       "        vertical-align: middle;\n",
       "    }\n",
       "\n",
       "    .dataframe tbody tr th {\n",
       "        vertical-align: top;\n",
       "    }\n",
       "\n",
       "    .dataframe thead th {\n",
       "        text-align: right;\n",
       "    }\n",
       "</style>\n",
       "<table border=\"1\" class=\"dataframe\">\n",
       "  <thead>\n",
       "    <tr style=\"text-align: right;\">\n",
       "      <th></th>\n",
       "      <th>DNI</th>\n",
       "      <th>IMPORTE</th>\n",
       "      <th>STATUS</th>\n",
       "      <th>Operador</th>\n",
       "    </tr>\n",
       "  </thead>\n",
       "  <tbody>\n",
       "    <tr>\n",
       "      <th>0</th>\n",
       "      <td>28759437</td>\n",
       "      <td>NaN</td>\n",
       "      <td>Falta Comprobante</td>\n",
       "      <td>Melanie Gonzalez</td>\n",
       "    </tr>\n",
       "    <tr>\n",
       "      <th>1</th>\n",
       "      <td>29754764</td>\n",
       "      <td>NaN</td>\n",
       "      <td>Falta Comprobante</td>\n",
       "      <td>Melanie Gonzalez</td>\n",
       "    </tr>\n",
       "    <tr>\n",
       "      <th>2</th>\n",
       "      <td>43414596</td>\n",
       "      <td>NaN</td>\n",
       "      <td>Falta Comprobante</td>\n",
       "      <td>Melanie Gonzalez</td>\n",
       "    </tr>\n",
       "    <tr>\n",
       "      <th>3</th>\n",
       "      <td>16802248</td>\n",
       "      <td>NaN</td>\n",
       "      <td>Falta Comprobante</td>\n",
       "      <td>Melanie Gonzalez</td>\n",
       "    </tr>\n",
       "    <tr>\n",
       "      <th>4</th>\n",
       "      <td>22966060</td>\n",
       "      <td>NaN</td>\n",
       "      <td>Falta Comprobante</td>\n",
       "      <td>Melanie Gonzalez</td>\n",
       "    </tr>\n",
       "    <tr>\n",
       "      <th>5</th>\n",
       "      <td>43414596</td>\n",
       "      <td>NaN</td>\n",
       "      <td>Falta Comprobante</td>\n",
       "      <td>Melanie Gonzalez</td>\n",
       "    </tr>\n",
       "  </tbody>\n",
       "</table>\n",
       "</div>"
      ],
      "text/plain": [
       "        DNI  IMPORTE             STATUS          Operador\n",
       "0  28759437      NaN  Falta Comprobante  Melanie Gonzalez\n",
       "1  29754764      NaN  Falta Comprobante  Melanie Gonzalez\n",
       "2  43414596      NaN  Falta Comprobante  Melanie Gonzalez\n",
       "3  16802248      NaN  Falta Comprobante  Melanie Gonzalez\n",
       "4  22966060      NaN  Falta Comprobante  Melanie Gonzalez\n",
       "5  43414596      NaN  Falta Comprobante  Melanie Gonzalez"
      ]
     },
     "metadata": {},
     "output_type": "display_data"
    }
   ],
   "source": [
    "import numpy as np \n",
    "df_nuevo = pd.DataFrame({\n",
    "    'DNI': [],\n",
    "    'IMPORTE': []\n",
    "})\n",
    "df_negativo = pd.DataFrame({})\n",
    "for i in range(len(df_unificado)):\n",
    "    if df_unificado.iloc[i]['DNI'] in lista_dnis:\n",
    "        registro = pd.DataFrame({\n",
    "            'DNI': [df_unificado.iloc[i]['DNI']],\n",
    "            'STATUS': ['Válido por Unificado'],\n",
    "            'IMPORTE': [df_unificado.iloc[i]['IMPORTE']],\n",
    "            'Operador': ['Melanie Gonzalez']\n",
    "            })\n",
    "        df_nuevo = pd.concat([df_nuevo, registro])\n",
    "        #Elimino el dni de la lista\n",
    "        lista_dnis.remove(df_unificado.iloc[i]['DNI'])\n",
    "    # else:\n",
    "    #     registro = pd.DataFrame({\n",
    "    #         'DNI': [df_unificado.iloc[i]['DNI']],\n",
    "    #         'STATUS': ['Falta Comprobante'],\n",
    "    #         'IMPORTE': [np.nan],\n",
    "    #         'Operador': ['Melanie Gonzalez']\n",
    "    #     })\n",
    "    #     df_negativo = pd.concat([df_negativo, registro])\n",
    "#df_nuevo = df_nuevo.astype(int)\n",
    "display(df_nuevo)\n",
    "df_resto = pd.DataFrame({\n",
    "    'DNI': lista_dnis\n",
    "})\n",
    "#display(df_resto)\n",
    "\n",
    "df_resto['IMPORTE'] = np.nan\n",
    "df_resto['STATUS'] = 'Falta Comprobante'\n",
    "df_resto['Operador'] = 'Melanie Gonzalez'\n",
    "display(df_resto)"
   ]
  },
  {
   "cell_type": "code",
   "execution_count": 16,
   "metadata": {},
   "outputs": [
    {
     "data": {
      "text/html": [
       "<div>\n",
       "<style scoped>\n",
       "    .dataframe tbody tr th:only-of-type {\n",
       "        vertical-align: middle;\n",
       "    }\n",
       "\n",
       "    .dataframe tbody tr th {\n",
       "        vertical-align: top;\n",
       "    }\n",
       "\n",
       "    .dataframe thead th {\n",
       "        text-align: right;\n",
       "    }\n",
       "</style>\n",
       "<table border=\"1\" class=\"dataframe\">\n",
       "  <thead>\n",
       "    <tr style=\"text-align: right;\">\n",
       "      <th></th>\n",
       "      <th>DNI</th>\n",
       "      <th>STATUS</th>\n",
       "      <th>IMPORTE</th>\n",
       "      <th>Operador</th>\n",
       "    </tr>\n",
       "  </thead>\n",
       "  <tbody>\n",
       "    <tr>\n",
       "      <th>0</th>\n",
       "      <td>17340736.0</td>\n",
       "      <td>Falta Comprobante</td>\n",
       "      <td>NaN</td>\n",
       "      <td>Melanie Gonzalez</td>\n",
       "    </tr>\n",
       "    <tr>\n",
       "      <th>0</th>\n",
       "      <td>32055633.0</td>\n",
       "      <td>Falta Comprobante</td>\n",
       "      <td>NaN</td>\n",
       "      <td>Melanie Gonzalez</td>\n",
       "    </tr>\n",
       "    <tr>\n",
       "      <th>0</th>\n",
       "      <td>6416621.0</td>\n",
       "      <td>Falta Comprobante</td>\n",
       "      <td>NaN</td>\n",
       "      <td>Melanie Gonzalez</td>\n",
       "    </tr>\n",
       "    <tr>\n",
       "      <th>0</th>\n",
       "      <td>20041726.0</td>\n",
       "      <td>Falta Comprobante</td>\n",
       "      <td>NaN</td>\n",
       "      <td>Melanie Gonzalez</td>\n",
       "    </tr>\n",
       "    <tr>\n",
       "      <th>0</th>\n",
       "      <td>18220228.0</td>\n",
       "      <td>Falta Comprobante</td>\n",
       "      <td>NaN</td>\n",
       "      <td>Melanie Gonzalez</td>\n",
       "    </tr>\n",
       "    <tr>\n",
       "      <th>...</th>\n",
       "      <td>...</td>\n",
       "      <td>...</td>\n",
       "      <td>...</td>\n",
       "      <td>...</td>\n",
       "    </tr>\n",
       "    <tr>\n",
       "      <th>0</th>\n",
       "      <td>28391223.0</td>\n",
       "      <td>Falta Comprobante</td>\n",
       "      <td>NaN</td>\n",
       "      <td>Melanie Gonzalez</td>\n",
       "    </tr>\n",
       "    <tr>\n",
       "      <th>0</th>\n",
       "      <td>24539735.0</td>\n",
       "      <td>Falta Comprobante</td>\n",
       "      <td>NaN</td>\n",
       "      <td>Melanie Gonzalez</td>\n",
       "    </tr>\n",
       "    <tr>\n",
       "      <th>0</th>\n",
       "      <td>35180608.0</td>\n",
       "      <td>Falta Comprobante</td>\n",
       "      <td>NaN</td>\n",
       "      <td>Melanie Gonzalez</td>\n",
       "    </tr>\n",
       "    <tr>\n",
       "      <th>0</th>\n",
       "      <td>41176131.0</td>\n",
       "      <td>Falta Comprobante</td>\n",
       "      <td>NaN</td>\n",
       "      <td>Melanie Gonzalez</td>\n",
       "    </tr>\n",
       "    <tr>\n",
       "      <th>0</th>\n",
       "      <td>14905267.0</td>\n",
       "      <td>Falta Comprobante</td>\n",
       "      <td>NaN</td>\n",
       "      <td>Melanie Gonzalez</td>\n",
       "    </tr>\n",
       "  </tbody>\n",
       "</table>\n",
       "<p>1055 rows × 4 columns</p>\n",
       "</div>"
      ],
      "text/plain": [
       "           DNI             STATUS  IMPORTE          Operador\n",
       "0   17340736.0  Falta Comprobante      NaN  Melanie Gonzalez\n",
       "0   32055633.0  Falta Comprobante      NaN  Melanie Gonzalez\n",
       "0    6416621.0  Falta Comprobante      NaN  Melanie Gonzalez\n",
       "0   20041726.0  Falta Comprobante      NaN  Melanie Gonzalez\n",
       "0   18220228.0  Falta Comprobante      NaN  Melanie Gonzalez\n",
       "..         ...                ...      ...               ...\n",
       "0   28391223.0  Falta Comprobante      NaN  Melanie Gonzalez\n",
       "0   24539735.0  Falta Comprobante      NaN  Melanie Gonzalez\n",
       "0   35180608.0  Falta Comprobante      NaN  Melanie Gonzalez\n",
       "0   41176131.0  Falta Comprobante      NaN  Melanie Gonzalez\n",
       "0   14905267.0  Falta Comprobante      NaN  Melanie Gonzalez\n",
       "\n",
       "[1055 rows x 4 columns]"
      ]
     },
     "execution_count": 16,
     "metadata": {},
     "output_type": "execute_result"
    }
   ],
   "source": [
    "df_negativo"
   ]
  },
  {
   "cell_type": "code",
   "execution_count": 9,
   "metadata": {},
   "outputs": [
    {
     "data": {
      "text/html": [
       "<div>\n",
       "<style scoped>\n",
       "    .dataframe tbody tr th:only-of-type {\n",
       "        vertical-align: middle;\n",
       "    }\n",
       "\n",
       "    .dataframe tbody tr th {\n",
       "        vertical-align: top;\n",
       "    }\n",
       "\n",
       "    .dataframe thead th {\n",
       "        text-align: right;\n",
       "    }\n",
       "</style>\n",
       "<table border=\"1\" class=\"dataframe\">\n",
       "  <thead>\n",
       "    <tr style=\"text-align: right;\">\n",
       "      <th></th>\n",
       "      <th>DNI</th>\n",
       "      <th>IMPORTE</th>\n",
       "      <th>STATUS</th>\n",
       "      <th>Operador</th>\n",
       "    </tr>\n",
       "  </thead>\n",
       "  <tbody>\n",
       "    <tr>\n",
       "      <th>0</th>\n",
       "      <td>17766443</td>\n",
       "      <td>15359</td>\n",
       "      <td>Válido por Unificado</td>\n",
       "      <td>Melanie Gonzalez</td>\n",
       "    </tr>\n",
       "    <tr>\n",
       "      <th>0</th>\n",
       "      <td>29236621</td>\n",
       "      <td>20000</td>\n",
       "      <td>Válido por Unificado</td>\n",
       "      <td>Melanie Gonzalez</td>\n",
       "    </tr>\n",
       "    <tr>\n",
       "      <th>0</th>\n",
       "      <td>41146270</td>\n",
       "      <td>11000</td>\n",
       "      <td>Válido por Unificado</td>\n",
       "      <td>Melanie Gonzalez</td>\n",
       "    </tr>\n",
       "    <tr>\n",
       "      <th>0</th>\n",
       "      <td>24109496</td>\n",
       "      <td>20000</td>\n",
       "      <td>Válido por Unificado</td>\n",
       "      <td>Melanie Gonzalez</td>\n",
       "    </tr>\n",
       "  </tbody>\n",
       "</table>\n",
       "</div>"
      ],
      "text/plain": [
       "        DNI  IMPORTE                STATUS          Operador\n",
       "0  17766443    15359  Válido por Unificado  Melanie Gonzalez\n",
       "0  29236621    20000  Válido por Unificado  Melanie Gonzalez\n",
       "0  41146270    11000  Válido por Unificado  Melanie Gonzalez\n",
       "0  24109496    20000  Válido por Unificado  Melanie Gonzalez"
      ]
     },
     "execution_count": 9,
     "metadata": {},
     "output_type": "execute_result"
    }
   ],
   "source": [
    "df_nuevo['STATUS'] = 'Válido por Unificado'\n",
    "df_nuevo['Operador'] = 'Melanie Gonzalez'\n",
    "df_nuevo"
   ]
  },
  {
   "cell_type": "code",
   "execution_count": 1,
   "metadata": {},
   "outputs": [
    {
     "name": "stdout",
     "output_type": "stream",
     "text": [
      "x existe\n"
     ]
    }
   ],
   "source": [
    "x = 10 \n",
    "if 'x' in locals():\n",
    "    print('x existe')\n",
    "else:\n",
    "    print('x no existe')"
   ]
  },
  {
   "cell_type": "code",
   "execution_count": 25,
   "metadata": {},
   "outputs": [
    {
     "data": {
      "text/html": [
       "<div>\n",
       "<style scoped>\n",
       "    .dataframe tbody tr th:only-of-type {\n",
       "        vertical-align: middle;\n",
       "    }\n",
       "\n",
       "    .dataframe tbody tr th {\n",
       "        vertical-align: top;\n",
       "    }\n",
       "\n",
       "    .dataframe thead th {\n",
       "        text-align: right;\n",
       "    }\n",
       "</style>\n",
       "<table border=\"1\" class=\"dataframe\">\n",
       "  <thead>\n",
       "    <tr style=\"text-align: right;\">\n",
       "      <th></th>\n",
       "      <th>DNI</th>\n",
       "      <th>STATUS</th>\n",
       "      <th>IMPORTE</th>\n",
       "      <th>Operador</th>\n",
       "    </tr>\n",
       "  </thead>\n",
       "  <tbody>\n",
       "    <tr>\n",
       "      <th>0</th>\n",
       "      <td>28759437</td>\n",
       "      <td>Falta Comprobante</td>\n",
       "      <td>NaN</td>\n",
       "      <td>Melanie Gonzalez</td>\n",
       "    </tr>\n",
       "    <tr>\n",
       "      <th>1</th>\n",
       "      <td>28759437</td>\n",
       "      <td>Falta Comprobante</td>\n",
       "      <td>NaN</td>\n",
       "      <td>Melanie Gonzalez</td>\n",
       "    </tr>\n",
       "    <tr>\n",
       "      <th>2</th>\n",
       "      <td>29754764</td>\n",
       "      <td>Falta Comprobante</td>\n",
       "      <td>NaN</td>\n",
       "      <td>Melanie Gonzalez</td>\n",
       "    </tr>\n",
       "    <tr>\n",
       "      <th>3</th>\n",
       "      <td>43414596</td>\n",
       "      <td>Falta Comprobante</td>\n",
       "      <td>NaN</td>\n",
       "      <td>Melanie Gonzalez</td>\n",
       "    </tr>\n",
       "    <tr>\n",
       "      <th>4</th>\n",
       "      <td>51808640387</td>\n",
       "      <td>Falta Excel</td>\n",
       "      <td>NaN</td>\n",
       "      <td>Melanie Gonzalez</td>\n",
       "    </tr>\n",
       "  </tbody>\n",
       "</table>\n",
       "</div>"
      ],
      "text/plain": [
       "           DNI             STATUS  IMPORTE          Operador\n",
       "0     28759437  Falta Comprobante      NaN  Melanie Gonzalez\n",
       "1     28759437  Falta Comprobante      NaN  Melanie Gonzalez\n",
       "2     29754764  Falta Comprobante      NaN  Melanie Gonzalez\n",
       "3     43414596  Falta Comprobante      NaN  Melanie Gonzalez\n",
       "4  51808640387        Falta Excel      NaN  Melanie Gonzalez"
      ]
     },
     "metadata": {},
     "output_type": "display_data"
    },
    {
     "data": {
      "text/html": [
       "<div>\n",
       "<style scoped>\n",
       "    .dataframe tbody tr th:only-of-type {\n",
       "        vertical-align: middle;\n",
       "    }\n",
       "\n",
       "    .dataframe tbody tr th {\n",
       "        vertical-align: top;\n",
       "    }\n",
       "\n",
       "    .dataframe thead th {\n",
       "        text-align: right;\n",
       "    }\n",
       "</style>\n",
       "<table border=\"1\" class=\"dataframe\">\n",
       "  <thead>\n",
       "    <tr style=\"text-align: right;\">\n",
       "      <th></th>\n",
       "      <th>DNI</th>\n",
       "      <th>STATUS</th>\n",
       "    </tr>\n",
       "  </thead>\n",
       "  <tbody>\n",
       "    <tr>\n",
       "      <th>0</th>\n",
       "      <td>28759437</td>\n",
       "      <td>-</td>\n",
       "    </tr>\n",
       "    <tr>\n",
       "      <th>1</th>\n",
       "      <td>28759437</td>\n",
       "      <td>-</td>\n",
       "    </tr>\n",
       "    <tr>\n",
       "      <th>2</th>\n",
       "      <td>28759437</td>\n",
       "      <td>-</td>\n",
       "    </tr>\n",
       "    <tr>\n",
       "      <th>3</th>\n",
       "      <td>29754764</td>\n",
       "      <td>-</td>\n",
       "    </tr>\n",
       "    <tr>\n",
       "      <th>4</th>\n",
       "      <td>43414596</td>\n",
       "      <td>-</td>\n",
       "    </tr>\n",
       "    <tr>\n",
       "      <th>5</th>\n",
       "      <td>51808640387</td>\n",
       "      <td>-</td>\n",
       "    </tr>\n",
       "  </tbody>\n",
       "</table>\n",
       "</div>"
      ],
      "text/plain": [
       "           DNI STATUS\n",
       "0     28759437      -\n",
       "1     28759437      -\n",
       "2     28759437      -\n",
       "3     29754764      -\n",
       "4     43414596      -\n",
       "5  51808640387      -"
      ]
     },
     "metadata": {},
     "output_type": "display_data"
    }
   ],
   "source": [
    "import pandas as pd \n",
    "import numpy as np\n",
    "df1 = pd.DataFrame({\n",
    "    'DNI': [28759437, \n",
    "            28759437,\n",
    "            29754764, \n",
    "            43414596, \n",
    "            51808640387],\n",
    "    'STATUS': ['Falta Comprobante',\n",
    "               'Falta Comprobante',\n",
    "               'Falta Comprobante',\n",
    "               'Falta Comprobante',\n",
    "               'Falta Excel'],\n",
    "    'IMPORTE': [np.nan, np.nan, np.nan, np.nan, np.nan],\n",
    "    'Operador': ['Melanie Gonzalez',\n",
    "                 'Melanie Gonzalez',\n",
    "                 'Melanie Gonzalez',\n",
    "                 'Melanie Gonzalez',\n",
    "                 'Melanie Gonzalez']\n",
    "})\n",
    "display(df1)\n",
    "df2 = pd.DataFrame({\n",
    "    'DNI': [28759437, 28759437, 28759437, 29754764, 43414596, 51808640387],\n",
    "    'STATUS': ['-', \n",
    "               '-',\n",
    "               '-',\n",
    "               '-',\n",
    "               '-',\n",
    "               '-']\n",
    "})\n",
    "display(df2)"
   ]
  },
  {
   "cell_type": "code",
   "execution_count": 26,
   "metadata": {},
   "outputs": [
    {
     "data": {
      "text/html": [
       "<div>\n",
       "<style scoped>\n",
       "    .dataframe tbody tr th:only-of-type {\n",
       "        vertical-align: middle;\n",
       "    }\n",
       "\n",
       "    .dataframe tbody tr th {\n",
       "        vertical-align: top;\n",
       "    }\n",
       "\n",
       "    .dataframe thead th {\n",
       "        text-align: right;\n",
       "    }\n",
       "</style>\n",
       "<table border=\"1\" class=\"dataframe\">\n",
       "  <thead>\n",
       "    <tr style=\"text-align: right;\">\n",
       "      <th></th>\n",
       "      <th>DNI</th>\n",
       "      <th>STATUS</th>\n",
       "      <th>IMPORTE</th>\n",
       "      <th>Operador</th>\n",
       "    </tr>\n",
       "  </thead>\n",
       "  <tbody>\n",
       "    <tr>\n",
       "      <th>0</th>\n",
       "      <td>28759437</td>\n",
       "      <td>Falta Comprobante</td>\n",
       "      <td>NaN</td>\n",
       "      <td>Melanie Gonzalez</td>\n",
       "    </tr>\n",
       "    <tr>\n",
       "      <th>2</th>\n",
       "      <td>29754764</td>\n",
       "      <td>Falta Comprobante</td>\n",
       "      <td>NaN</td>\n",
       "      <td>Melanie Gonzalez</td>\n",
       "    </tr>\n",
       "    <tr>\n",
       "      <th>3</th>\n",
       "      <td>43414596</td>\n",
       "      <td>Falta Comprobante</td>\n",
       "      <td>NaN</td>\n",
       "      <td>Melanie Gonzalez</td>\n",
       "    </tr>\n",
       "    <tr>\n",
       "      <th>4</th>\n",
       "      <td>51808640387</td>\n",
       "      <td>Falta Excel</td>\n",
       "      <td>NaN</td>\n",
       "      <td>Melanie Gonzalez</td>\n",
       "    </tr>\n",
       "  </tbody>\n",
       "</table>\n",
       "</div>"
      ],
      "text/plain": [
       "           DNI             STATUS  IMPORTE          Operador\n",
       "0     28759437  Falta Comprobante      NaN  Melanie Gonzalez\n",
       "2     29754764  Falta Comprobante      NaN  Melanie Gonzalez\n",
       "3     43414596  Falta Comprobante      NaN  Melanie Gonzalez\n",
       "4  51808640387        Falta Excel      NaN  Melanie Gonzalez"
      ]
     },
     "execution_count": 26,
     "metadata": {},
     "output_type": "execute_result"
    }
   ],
   "source": [
    "df1.drop_duplicates(inplace=True)\n",
    "df1"
   ]
  },
  {
   "cell_type": "code",
   "execution_count": 27,
   "metadata": {},
   "outputs": [],
   "source": [
    "df2.drop('STATUS', axis=1, inplace=True)"
   ]
  },
  {
   "cell_type": "code",
   "execution_count": 28,
   "metadata": {},
   "outputs": [
    {
     "data": {
      "text/html": [
       "<div>\n",
       "<style scoped>\n",
       "    .dataframe tbody tr th:only-of-type {\n",
       "        vertical-align: middle;\n",
       "    }\n",
       "\n",
       "    .dataframe tbody tr th {\n",
       "        vertical-align: top;\n",
       "    }\n",
       "\n",
       "    .dataframe thead th {\n",
       "        text-align: right;\n",
       "    }\n",
       "</style>\n",
       "<table border=\"1\" class=\"dataframe\">\n",
       "  <thead>\n",
       "    <tr style=\"text-align: right;\">\n",
       "      <th></th>\n",
       "      <th>DNI</th>\n",
       "      <th>STATUS</th>\n",
       "      <th>IMPORTE</th>\n",
       "      <th>Operador</th>\n",
       "    </tr>\n",
       "  </thead>\n",
       "  <tbody>\n",
       "    <tr>\n",
       "      <th>0</th>\n",
       "      <td>28759437</td>\n",
       "      <td>Falta Comprobante</td>\n",
       "      <td>NaN</td>\n",
       "      <td>Melanie Gonzalez</td>\n",
       "    </tr>\n",
       "    <tr>\n",
       "      <th>1</th>\n",
       "      <td>28759437</td>\n",
       "      <td>Falta Comprobante</td>\n",
       "      <td>NaN</td>\n",
       "      <td>Melanie Gonzalez</td>\n",
       "    </tr>\n",
       "    <tr>\n",
       "      <th>2</th>\n",
       "      <td>28759437</td>\n",
       "      <td>Falta Comprobante</td>\n",
       "      <td>NaN</td>\n",
       "      <td>Melanie Gonzalez</td>\n",
       "    </tr>\n",
       "    <tr>\n",
       "      <th>3</th>\n",
       "      <td>29754764</td>\n",
       "      <td>Falta Comprobante</td>\n",
       "      <td>NaN</td>\n",
       "      <td>Melanie Gonzalez</td>\n",
       "    </tr>\n",
       "    <tr>\n",
       "      <th>4</th>\n",
       "      <td>43414596</td>\n",
       "      <td>Falta Comprobante</td>\n",
       "      <td>NaN</td>\n",
       "      <td>Melanie Gonzalez</td>\n",
       "    </tr>\n",
       "    <tr>\n",
       "      <th>5</th>\n",
       "      <td>51808640387</td>\n",
       "      <td>Falta Excel</td>\n",
       "      <td>NaN</td>\n",
       "      <td>Melanie Gonzalez</td>\n",
       "    </tr>\n",
       "  </tbody>\n",
       "</table>\n",
       "</div>"
      ],
      "text/plain": [
       "           DNI             STATUS  IMPORTE          Operador\n",
       "0     28759437  Falta Comprobante      NaN  Melanie Gonzalez\n",
       "1     28759437  Falta Comprobante      NaN  Melanie Gonzalez\n",
       "2     28759437  Falta Comprobante      NaN  Melanie Gonzalez\n",
       "3     29754764  Falta Comprobante      NaN  Melanie Gonzalez\n",
       "4     43414596  Falta Comprobante      NaN  Melanie Gonzalez\n",
       "5  51808640387        Falta Excel      NaN  Melanie Gonzalez"
      ]
     },
     "execution_count": 28,
     "metadata": {},
     "output_type": "execute_result"
    }
   ],
   "source": [
    "df_merge = df1.merge(df2, on='DNI', how='inner')\n",
    "df_merge\n",
    "\n",
    "#Eliminar duplicados "
   ]
  },
  {
   "attachments": {},
   "cell_type": "markdown",
   "metadata": {},
   "source": [
    "---"
   ]
  },
  {
   "cell_type": "code",
   "execution_count": 15,
   "metadata": {},
   "outputs": [],
   "source": [
    "lista_unificados = os.listdir(f'M:/PAGOS/__Pagos/Pagos_Test/Pagos_Test/bin/Temp/MejorCredito/Sucursal')\n",
    "lista_unificados = [i.lower() for i in lista_unificados] #Todo a minúsculas\n",
    "\n",
    "#--------------- Archivos ---------------#\n",
    "unificado = [i for i in lista_unificados if 'unificado' in i]\n",
    "if len(unificado) > 0:\n",
    "    unificado = unificado[0]\n",
    "else:\n",
    "    unificado = ''\n",
    "\n",
    "cierre = [i for i in lista_unificados if 'cierre' in i]\n",
    "if len(cierre) > 0:\n",
    "    cierre = cierre[0]\n",
    "else:\n",
    "    cierre = ''"
   ]
  },
  {
   "cell_type": "code",
   "execution_count": 16,
   "metadata": {},
   "outputs": [
    {
     "data": {
      "text/plain": [
       "'unificado de pagos noviembre.xlsx'"
      ]
     },
     "execution_count": 16,
     "metadata": {},
     "output_type": "execute_result"
    }
   ],
   "source": [
    "unificado"
   ]
  },
  {
   "cell_type": "code",
   "execution_count": 17,
   "metadata": {},
   "outputs": [
    {
     "data": {
      "text/plain": [
       "'cierre noviembre 2022.xlsx'"
      ]
     },
     "execution_count": 17,
     "metadata": {},
     "output_type": "execute_result"
    }
   ],
   "source": [
    "cierre"
   ]
  },
  {
   "attachments": {},
   "cell_type": "markdown",
   "metadata": {},
   "source": [
    "---"
   ]
  },
  {
   "attachments": {},
   "cell_type": "markdown",
   "metadata": {},
   "source": [
    "2da etapa - Choque con Distribución.  \n",
    "Cierre - Todos menos los válidos"
   ]
  },
  {
   "cell_type": "code",
   "execution_count": 220,
   "metadata": {},
   "outputs": [],
   "source": [
    "import pandas as pd \n",
    "df_cierre1 = pd.read_excel(f'M:/PAGOS/__Pagos/Pagos_Test/Pagos_Test/bin/Temp/MejorCredito/Sucursal/CIERRE NOVIEMBRE 2022.xlsx', sheet_name='COBRANZA MEJOR CREDITO', usecols=['doc.', 'fecha', 'est'])\n",
    "df_cierre2 = pd.read_excel(f'M:/PAGOS/__Pagos/Pagos_Test/Pagos_Test/bin/Temp/MejorCredito/Sucursal/CIERRE NOVIEMBRE 2022.xlsx', sheet_name='RENDICION MAS COBRANZAS', usecols=['DNI', 'Fecha de Pago', ' Importe Total '])\n",
    "df_cierre1 = df_cierre1.iloc[:-1] #Elimino el total calculado a mano\n",
    "df_cierre2 = df_cierre2.iloc[:-1] #Elimino el total calculado a mano\n",
    "\n",
    "df_cierre1.rename({'doc.': 'DNI', 'est': 'IMPORTE', 'fecha': 'Fecha de Pago'}, axis=1, inplace=True)\n",
    "df_cierre2.rename({' Importe Total ': 'IMPORTE'}, axis=1, inplace=True)\n",
    "df_cierre1['DF'] = 1 #Distinguir de dónde viene\n",
    "df_cierre2['DF'] = 2 #Distinguir de dónde viene\n",
    "\n",
    "df_cierre = pd.concat([df_cierre1, df_cierre2]) #Concateno en un único df \n",
    "df_cierre['DNI'] = df_cierre['DNI'].apply(int)"
   ]
  },
  {
   "cell_type": "code",
   "execution_count": 221,
   "metadata": {},
   "outputs": [
    {
     "data": {
      "text/html": [
       "<div>\n",
       "<style scoped>\n",
       "    .dataframe tbody tr th:only-of-type {\n",
       "        vertical-align: middle;\n",
       "    }\n",
       "\n",
       "    .dataframe tbody tr th {\n",
       "        vertical-align: top;\n",
       "    }\n",
       "\n",
       "    .dataframe thead th {\n",
       "        text-align: right;\n",
       "    }\n",
       "</style>\n",
       "<table border=\"1\" class=\"dataframe\">\n",
       "  <thead>\n",
       "    <tr style=\"text-align: right;\">\n",
       "      <th></th>\n",
       "      <th>Fecha de Pago</th>\n",
       "      <th>DNI</th>\n",
       "      <th>IMPORTE</th>\n",
       "      <th>DF</th>\n",
       "    </tr>\n",
       "  </thead>\n",
       "  <tbody>\n",
       "    <tr>\n",
       "      <th>0</th>\n",
       "      <td>2022-11-01</td>\n",
       "      <td>32055633</td>\n",
       "      <td>5400.0</td>\n",
       "      <td>1</td>\n",
       "    </tr>\n",
       "    <tr>\n",
       "      <th>1</th>\n",
       "      <td>2022-11-01</td>\n",
       "      <td>6416621</td>\n",
       "      <td>14260.0</td>\n",
       "      <td>1</td>\n",
       "    </tr>\n",
       "  </tbody>\n",
       "</table>\n",
       "</div>"
      ],
      "text/plain": [
       "  Fecha de Pago       DNI  IMPORTE  DF\n",
       "0    2022-11-01  32055633   5400.0   1\n",
       "1    2022-11-01   6416621  14260.0   1"
      ]
     },
     "metadata": {},
     "output_type": "display_data"
    },
    {
     "name": "stdout",
     "output_type": "stream",
     "text": [
      "(1145, 4)\n"
     ]
    }
   ],
   "source": [
    "display(df_cierre.head(2))\n",
    "print(df_cierre.shape)"
   ]
  },
  {
   "attachments": {},
   "cell_type": "markdown",
   "metadata": {},
   "source": [
    "Por operador:\n",
    "Quito del cierre los válidos"
   ]
  },
  {
   "cell_type": "code",
   "execution_count": 222,
   "metadata": {},
   "outputs": [
    {
     "data": {
      "text/html": [
       "<div>\n",
       "<style scoped>\n",
       "    .dataframe tbody tr th:only-of-type {\n",
       "        vertical-align: middle;\n",
       "    }\n",
       "\n",
       "    .dataframe tbody tr th {\n",
       "        vertical-align: top;\n",
       "    }\n",
       "\n",
       "    .dataframe thead th {\n",
       "        text-align: right;\n",
       "    }\n",
       "</style>\n",
       "<table border=\"1\" class=\"dataframe\">\n",
       "  <thead>\n",
       "    <tr style=\"text-align: right;\">\n",
       "      <th></th>\n",
       "      <th>Fecha de Pago</th>\n",
       "      <th>DNI</th>\n",
       "      <th>IMPORTE</th>\n",
       "      <th>DF</th>\n",
       "    </tr>\n",
       "  </thead>\n",
       "  <tbody>\n",
       "    <tr>\n",
       "      <th>428</th>\n",
       "      <td>2022-11-10</td>\n",
       "      <td>96033138</td>\n",
       "      <td>3000.0</td>\n",
       "      <td>1</td>\n",
       "    </tr>\n",
       "    <tr>\n",
       "      <th>474</th>\n",
       "      <td>2022-11-11</td>\n",
       "      <td>96033138</td>\n",
       "      <td>3000.0</td>\n",
       "      <td>1</td>\n",
       "    </tr>\n",
       "    <tr>\n",
       "      <th>642</th>\n",
       "      <td>2022-11-16</td>\n",
       "      <td>96033138</td>\n",
       "      <td>12010.0</td>\n",
       "      <td>1</td>\n",
       "    </tr>\n",
       "  </tbody>\n",
       "</table>\n",
       "</div>"
      ],
      "text/plain": [
       "    Fecha de Pago       DNI  IMPORTE  DF\n",
       "428    2022-11-10  96033138   3000.0   1\n",
       "474    2022-11-11  96033138   3000.0   1\n",
       "642    2022-11-16  96033138  12010.0   1"
      ]
     },
     "execution_count": 222,
     "metadata": {},
     "output_type": "execute_result"
    }
   ],
   "source": [
    "df_cierre[df_cierre['DNI'] == 96033138]"
   ]
  },
  {
   "cell_type": "code",
   "execution_count": 224,
   "metadata": {},
   "outputs": [
    {
     "data": {
      "text/html": [
       "<div>\n",
       "<style scoped>\n",
       "    .dataframe tbody tr th:only-of-type {\n",
       "        vertical-align: middle;\n",
       "    }\n",
       "\n",
       "    .dataframe tbody tr th {\n",
       "        vertical-align: top;\n",
       "    }\n",
       "\n",
       "    .dataframe thead th {\n",
       "        text-align: right;\n",
       "    }\n",
       "</style>\n",
       "<table border=\"1\" class=\"dataframe\">\n",
       "  <thead>\n",
       "    <tr style=\"text-align: right;\">\n",
       "      <th></th>\n",
       "      <th>DNI</th>\n",
       "      <th>STATUS</th>\n",
       "      <th>IMPORTE</th>\n",
       "      <th>Operador</th>\n",
       "    </tr>\n",
       "  </thead>\n",
       "  <tbody>\n",
       "    <tr>\n",
       "      <th>0</th>\n",
       "      <td>16308470</td>\n",
       "      <td>Válido por Cierre</td>\n",
       "      <td>50000.0</td>\n",
       "      <td>Ariana Messina</td>\n",
       "    </tr>\n",
       "    <tr>\n",
       "      <th>1</th>\n",
       "      <td>43287995</td>\n",
       "      <td>Válido por Cierre</td>\n",
       "      <td>3540.0</td>\n",
       "      <td>Ariana Messina</td>\n",
       "    </tr>\n",
       "  </tbody>\n",
       "</table>\n",
       "</div>"
      ],
      "text/plain": [
       "        DNI             STATUS  IMPORTE        Operador\n",
       "0  16308470  Válido por Cierre  50000.0  Ariana Messina\n",
       "1  43287995  Válido por Cierre   3540.0  Ariana Messina"
      ]
     },
     "metadata": {},
     "output_type": "display_data"
    },
    {
     "name": "stdout",
     "output_type": "stream",
     "text": [
      "(764, 4)\n"
     ]
    }
   ],
   "source": [
    "#Cargo los válidos de todos los operadores\n",
    "df_validos_gral = pd.read_excel('M:/PAGOS/__Pagos/Pagos_Test/Pagos_Test/bin/Scripts/Py/df_validos_gral.xlsx')\n",
    "display(df_validos_gral.head(2))\n",
    "print(df_validos_gral.shape)"
   ]
  },
  {
   "cell_type": "code",
   "execution_count": 225,
   "metadata": {},
   "outputs": [
    {
     "name": "stdout",
     "output_type": "stream",
     "text": [
      "(362, 2)\n"
     ]
    }
   ],
   "source": [
    "lista_dnis = list(df_validos_gral['DNI'])\n",
    "df_nuevo = pd.DataFrame({})\n",
    "#Quiero los cierres quitando los válidos\n",
    "for index_dfc in range(len(df_cierre)):\n",
    "    if df_cierre.iloc[index_dfc]['DNI'] not in lista_dnis:\n",
    "        registro = pd.DataFrame({\n",
    "            'DNI': [df_cierre.iloc[index_dfc]['DNI']],\n",
    "            'IMPORTE': [df_cierre.iloc[index_dfc]['IMPORTE']],\n",
    "            # 'SALDO': [df_cierre.iloc[index_dfc]['SALDO']],\n",
    "            # 'Operador': 'Melanie Gonzalez'\n",
    "            })\n",
    "        df_nuevo = pd.concat([df_nuevo, registro])\n",
    "        #Elimino el dni de la lista\n",
    "        #lista_dnis.remove(df.iloc[index_dfc]['DNI'])\n",
    "df_resto = pd.DataFrame({'DNI': lista_dnis})\n",
    "#df_nuevo son los registros del cierre que no son válidos\n",
    "print(df_nuevo.shape)\n",
    "#df_nuevo.to_excel('M:/PAGOS/__Pagos/Pagos_Test/Pagos_Test/bin/Temp/MejorCredito/Resultados/df_cierre_no_validos.xlsx', index=False)"
   ]
  },
  {
   "cell_type": "code",
   "execution_count": 226,
   "metadata": {},
   "outputs": [
    {
     "data": {
      "text/html": [
       "<div>\n",
       "<style scoped>\n",
       "    .dataframe tbody tr th:only-of-type {\n",
       "        vertical-align: middle;\n",
       "    }\n",
       "\n",
       "    .dataframe tbody tr th {\n",
       "        vertical-align: top;\n",
       "    }\n",
       "\n",
       "    .dataframe thead th {\n",
       "        text-align: right;\n",
       "    }\n",
       "</style>\n",
       "<table border=\"1\" class=\"dataframe\">\n",
       "  <thead>\n",
       "    <tr style=\"text-align: right;\">\n",
       "      <th></th>\n",
       "      <th>DNI</th>\n",
       "      <th>IMPORTE</th>\n",
       "    </tr>\n",
       "  </thead>\n",
       "  <tbody>\n",
       "    <tr>\n",
       "      <th>0</th>\n",
       "      <td>96033138</td>\n",
       "      <td>3000.0</td>\n",
       "    </tr>\n",
       "    <tr>\n",
       "      <th>0</th>\n",
       "      <td>96033138</td>\n",
       "      <td>3000.0</td>\n",
       "    </tr>\n",
       "    <tr>\n",
       "      <th>0</th>\n",
       "      <td>96033138</td>\n",
       "      <td>12010.0</td>\n",
       "    </tr>\n",
       "  </tbody>\n",
       "</table>\n",
       "</div>"
      ],
      "text/plain": [
       "        DNI  IMPORTE\n",
       "0  96033138   3000.0\n",
       "0  96033138   3000.0\n",
       "0  96033138  12010.0"
      ]
     },
     "execution_count": 226,
     "metadata": {},
     "output_type": "execute_result"
    }
   ],
   "source": [
    "df_nuevo[df_nuevo['DNI'] == 96033138]"
   ]
  },
  {
   "attachments": {},
   "cell_type": "markdown",
   "metadata": {},
   "source": [
    "Choque contra distribución:"
   ]
  },
  {
   "cell_type": "code",
   "execution_count": 227,
   "metadata": {},
   "outputs": [
    {
     "data": {
      "text/html": [
       "<div>\n",
       "<style scoped>\n",
       "    .dataframe tbody tr th:only-of-type {\n",
       "        vertical-align: middle;\n",
       "    }\n",
       "\n",
       "    .dataframe tbody tr th {\n",
       "        vertical-align: top;\n",
       "    }\n",
       "\n",
       "    .dataframe thead th {\n",
       "        text-align: right;\n",
       "    }\n",
       "</style>\n",
       "<table border=\"1\" class=\"dataframe\">\n",
       "  <thead>\n",
       "    <tr style=\"text-align: right;\">\n",
       "      <th></th>\n",
       "      <th>DNI</th>\n",
       "      <th>OPERADOR</th>\n",
       "    </tr>\n",
       "  </thead>\n",
       "  <tbody>\n",
       "    <tr>\n",
       "      <th>0</th>\n",
       "      <td>33854915</td>\n",
       "      <td>MARINA</td>\n",
       "    </tr>\n",
       "    <tr>\n",
       "      <th>1</th>\n",
       "      <td>32758624</td>\n",
       "      <td>MARINA</td>\n",
       "    </tr>\n",
       "  </tbody>\n",
       "</table>\n",
       "</div>"
      ],
      "text/plain": [
       "        DNI OPERADOR\n",
       "0  33854915   MARINA\n",
       "1  32758624   MARINA"
      ]
     },
     "metadata": {},
     "output_type": "display_data"
    },
    {
     "name": "stdout",
     "output_type": "stream",
     "text": [
      "(32244, 2)\n"
     ]
    }
   ],
   "source": [
    "import pandas as pd\n",
    "df = pd.read_excel('M:/FEDERICO/DISTRIBUCION MEJOR CREDITO 0112.xlsx',\n",
    "usecols=['DNI', 'OPERADOR'])\n",
    "display(df.head(2))\n",
    "print(df.shape)"
   ]
  },
  {
   "cell_type": "code",
   "execution_count": 228,
   "metadata": {},
   "outputs": [
    {
     "data": {
      "text/html": [
       "<div>\n",
       "<style scoped>\n",
       "    .dataframe tbody tr th:only-of-type {\n",
       "        vertical-align: middle;\n",
       "    }\n",
       "\n",
       "    .dataframe tbody tr th {\n",
       "        vertical-align: top;\n",
       "    }\n",
       "\n",
       "    .dataframe thead th {\n",
       "        text-align: right;\n",
       "    }\n",
       "</style>\n",
       "<table border=\"1\" class=\"dataframe\">\n",
       "  <thead>\n",
       "    <tr style=\"text-align: right;\">\n",
       "      <th></th>\n",
       "      <th>DNI</th>\n",
       "      <th>OPERADOR</th>\n",
       "    </tr>\n",
       "  </thead>\n",
       "  <tbody>\n",
       "    <tr>\n",
       "      <th>6734</th>\n",
       "      <td>96033138</td>\n",
       "      <td>IAMBERTI JOSEFINA</td>\n",
       "    </tr>\n",
       "  </tbody>\n",
       "</table>\n",
       "</div>"
      ],
      "text/plain": [
       "           DNI           OPERADOR\n",
       "6734  96033138  IAMBERTI JOSEFINA"
      ]
     },
     "execution_count": 228,
     "metadata": {},
     "output_type": "execute_result"
    }
   ],
   "source": [
    "df[df['DNI'] == 96033138]"
   ]
  },
  {
   "cell_type": "code",
   "execution_count": 229,
   "metadata": {},
   "outputs": [
    {
     "data": {
      "text/plain": [
       "MARINA                 22524\n",
       "CONSTANZA LOPEZ          981\n",
       "REDONDO AYLEN            968\n",
       "SOTELO TATIANA           673\n",
       "GIMENEZ LUCIANA          670\n",
       "PAULALEAL                669\n",
       "FANTIN MALENA            668\n",
       "MELANIE GONZALEZ         664\n",
       "TERCEROS CAMILA          661\n",
       "MESSINA ARIANA           660\n",
       "SAENZ FLORENCIA          653\n",
       "LOCANE ESTEFANIA         653\n",
       "BAEZ DAIANA              651\n",
       "DALOISIO LUCIA           383\n",
       "IAMBERTI JOSEFINA        383\n",
       "LEGUIZAMON GIULIANA      383\n",
       "Name: OPERADOR, dtype: int64"
      ]
     },
     "execution_count": 229,
     "metadata": {},
     "output_type": "execute_result"
    }
   ],
   "source": [
    "df['OPERADOR'].value_counts()"
   ]
  },
  {
   "cell_type": "code",
   "execution_count": 230,
   "metadata": {},
   "outputs": [
    {
     "name": "stdout",
     "output_type": "stream",
     "text": [
      "(9720, 2)\n"
     ]
    }
   ],
   "source": [
    "#Quito los no gestionables de la distribución\n",
    "df2 = df[df['OPERADOR'] != 'MARINA']\n",
    "print(df2.shape)"
   ]
  },
  {
   "cell_type": "code",
   "execution_count": 231,
   "metadata": {},
   "outputs": [
    {
     "data": {
      "text/html": [
       "<div>\n",
       "<style scoped>\n",
       "    .dataframe tbody tr th:only-of-type {\n",
       "        vertical-align: middle;\n",
       "    }\n",
       "\n",
       "    .dataframe tbody tr th {\n",
       "        vertical-align: top;\n",
       "    }\n",
       "\n",
       "    .dataframe thead th {\n",
       "        text-align: right;\n",
       "    }\n",
       "</style>\n",
       "<table border=\"1\" class=\"dataframe\">\n",
       "  <thead>\n",
       "    <tr style=\"text-align: right;\">\n",
       "      <th></th>\n",
       "      <th>DNI</th>\n",
       "      <th>IMPORTE</th>\n",
       "      <th>OPERADOR</th>\n",
       "    </tr>\n",
       "  </thead>\n",
       "  <tbody>\n",
       "    <tr>\n",
       "      <th>0</th>\n",
       "      <td>11861822</td>\n",
       "      <td>15000.0</td>\n",
       "      <td>LEGUIZAMON GIULIANA</td>\n",
       "    </tr>\n",
       "    <tr>\n",
       "      <th>1</th>\n",
       "      <td>41130963</td>\n",
       "      <td>33425.0</td>\n",
       "      <td>LEGUIZAMON GIULIANA</td>\n",
       "    </tr>\n",
       "    <tr>\n",
       "      <th>2</th>\n",
       "      <td>36442831</td>\n",
       "      <td>2000.0</td>\n",
       "      <td>DALOISIO LUCIA</td>\n",
       "    </tr>\n",
       "    <tr>\n",
       "      <th>3</th>\n",
       "      <td>31653501</td>\n",
       "      <td>24000.0</td>\n",
       "      <td>DALOISIO LUCIA</td>\n",
       "    </tr>\n",
       "    <tr>\n",
       "      <th>4</th>\n",
       "      <td>29343327</td>\n",
       "      <td>11192.0</td>\n",
       "      <td>IAMBERTI JOSEFINA</td>\n",
       "    </tr>\n",
       "    <tr>\n",
       "      <th>...</th>\n",
       "      <td>...</td>\n",
       "      <td>...</td>\n",
       "      <td>...</td>\n",
       "    </tr>\n",
       "    <tr>\n",
       "      <th>266</th>\n",
       "      <td>12530496</td>\n",
       "      <td>7500.0</td>\n",
       "      <td>DALOISIO LUCIA</td>\n",
       "    </tr>\n",
       "    <tr>\n",
       "      <th>267</th>\n",
       "      <td>12399793</td>\n",
       "      <td>5810.0</td>\n",
       "      <td>IAMBERTI JOSEFINA</td>\n",
       "    </tr>\n",
       "    <tr>\n",
       "      <th>268</th>\n",
       "      <td>31550078</td>\n",
       "      <td>7380.0</td>\n",
       "      <td>DALOISIO LUCIA</td>\n",
       "    </tr>\n",
       "    <tr>\n",
       "      <th>269</th>\n",
       "      <td>27626346</td>\n",
       "      <td>28200.0</td>\n",
       "      <td>LEGUIZAMON GIULIANA</td>\n",
       "    </tr>\n",
       "    <tr>\n",
       "      <th>270</th>\n",
       "      <td>24339111</td>\n",
       "      <td>10000.0</td>\n",
       "      <td>IAMBERTI JOSEFINA</td>\n",
       "    </tr>\n",
       "  </tbody>\n",
       "</table>\n",
       "<p>271 rows × 3 columns</p>\n",
       "</div>"
      ],
      "text/plain": [
       "          DNI  IMPORTE             OPERADOR\n",
       "0    11861822  15000.0  LEGUIZAMON GIULIANA\n",
       "1    41130963  33425.0  LEGUIZAMON GIULIANA\n",
       "2    36442831   2000.0       DALOISIO LUCIA\n",
       "3    31653501  24000.0       DALOISIO LUCIA\n",
       "4    29343327  11192.0    IAMBERTI JOSEFINA\n",
       "..        ...      ...                  ...\n",
       "266  12530496   7500.0       DALOISIO LUCIA\n",
       "267  12399793   5810.0    IAMBERTI JOSEFINA\n",
       "268  31550078   7380.0       DALOISIO LUCIA\n",
       "269  27626346  28200.0  LEGUIZAMON GIULIANA\n",
       "270  24339111  10000.0    IAMBERTI JOSEFINA\n",
       "\n",
       "[271 rows x 3 columns]"
      ]
     },
     "execution_count": 231,
     "metadata": {},
     "output_type": "execute_result"
    }
   ],
   "source": [
    "#Choque del cierre quitando los Válidos y la distribución\n",
    "#Los registros del cierre que están en la distribución\n",
    "df_merge = df_nuevo.merge(df2, on='DNI', how='inner')\n",
    "#df_sin_gestion:\n",
    "df_merge"
   ]
  },
  {
   "cell_type": "code",
   "execution_count": 232,
   "metadata": {},
   "outputs": [
    {
     "data": {
      "text/html": [
       "<div>\n",
       "<style scoped>\n",
       "    .dataframe tbody tr th:only-of-type {\n",
       "        vertical-align: middle;\n",
       "    }\n",
       "\n",
       "    .dataframe tbody tr th {\n",
       "        vertical-align: top;\n",
       "    }\n",
       "\n",
       "    .dataframe thead th {\n",
       "        text-align: right;\n",
       "    }\n",
       "</style>\n",
       "<table border=\"1\" class=\"dataframe\">\n",
       "  <thead>\n",
       "    <tr style=\"text-align: right;\">\n",
       "      <th></th>\n",
       "      <th>DNI</th>\n",
       "      <th>IMPORTE</th>\n",
       "      <th>OPERADOR</th>\n",
       "    </tr>\n",
       "  </thead>\n",
       "  <tbody>\n",
       "    <tr>\n",
       "      <th>0</th>\n",
       "      <td>11861822</td>\n",
       "      <td>15000.0</td>\n",
       "      <td>LEGUIZAMON GIULIANA</td>\n",
       "    </tr>\n",
       "    <tr>\n",
       "      <th>1</th>\n",
       "      <td>41130963</td>\n",
       "      <td>33425.0</td>\n",
       "      <td>LEGUIZAMON GIULIANA</td>\n",
       "    </tr>\n",
       "    <tr>\n",
       "      <th>2</th>\n",
       "      <td>36442831</td>\n",
       "      <td>2000.0</td>\n",
       "      <td>DALOISIO LUCIA</td>\n",
       "    </tr>\n",
       "    <tr>\n",
       "      <th>3</th>\n",
       "      <td>31653501</td>\n",
       "      <td>24000.0</td>\n",
       "      <td>DALOISIO LUCIA</td>\n",
       "    </tr>\n",
       "    <tr>\n",
       "      <th>4</th>\n",
       "      <td>29343327</td>\n",
       "      <td>11192.0</td>\n",
       "      <td>IAMBERTI JOSEFINA</td>\n",
       "    </tr>\n",
       "    <tr>\n",
       "      <th>...</th>\n",
       "      <td>...</td>\n",
       "      <td>...</td>\n",
       "      <td>...</td>\n",
       "    </tr>\n",
       "    <tr>\n",
       "      <th>266</th>\n",
       "      <td>12530496</td>\n",
       "      <td>7500.0</td>\n",
       "      <td>DALOISIO LUCIA</td>\n",
       "    </tr>\n",
       "    <tr>\n",
       "      <th>267</th>\n",
       "      <td>12399793</td>\n",
       "      <td>5810.0</td>\n",
       "      <td>IAMBERTI JOSEFINA</td>\n",
       "    </tr>\n",
       "    <tr>\n",
       "      <th>268</th>\n",
       "      <td>31550078</td>\n",
       "      <td>7380.0</td>\n",
       "      <td>DALOISIO LUCIA</td>\n",
       "    </tr>\n",
       "    <tr>\n",
       "      <th>269</th>\n",
       "      <td>27626346</td>\n",
       "      <td>28200.0</td>\n",
       "      <td>LEGUIZAMON GIULIANA</td>\n",
       "    </tr>\n",
       "    <tr>\n",
       "      <th>270</th>\n",
       "      <td>24339111</td>\n",
       "      <td>10000.0</td>\n",
       "      <td>IAMBERTI JOSEFINA</td>\n",
       "    </tr>\n",
       "  </tbody>\n",
       "</table>\n",
       "<p>271 rows × 3 columns</p>\n",
       "</div>"
      ],
      "text/plain": [
       "          DNI  IMPORTE             OPERADOR\n",
       "0    11861822  15000.0  LEGUIZAMON GIULIANA\n",
       "1    41130963  33425.0  LEGUIZAMON GIULIANA\n",
       "2    36442831   2000.0       DALOISIO LUCIA\n",
       "3    31653501  24000.0       DALOISIO LUCIA\n",
       "4    29343327  11192.0    IAMBERTI JOSEFINA\n",
       "..        ...      ...                  ...\n",
       "266  12530496   7500.0       DALOISIO LUCIA\n",
       "267  12399793   5810.0    IAMBERTI JOSEFINA\n",
       "268  31550078   7380.0       DALOISIO LUCIA\n",
       "269  27626346  28200.0  LEGUIZAMON GIULIANA\n",
       "270  24339111  10000.0    IAMBERTI JOSEFINA\n",
       "\n",
       "[271 rows x 3 columns]"
      ]
     },
     "execution_count": 232,
     "metadata": {},
     "output_type": "execute_result"
    }
   ],
   "source": [
    "df_merge = df_nuevo.merge(df2, on='DNI', how='inner')\n",
    "#df_sin_gestion:\n",
    "df_merge"
   ]
  },
  {
   "cell_type": "code",
   "execution_count": 217,
   "metadata": {},
   "outputs": [
    {
     "data": {
      "text/html": [
       "<div>\n",
       "<style scoped>\n",
       "    .dataframe tbody tr th:only-of-type {\n",
       "        vertical-align: middle;\n",
       "    }\n",
       "\n",
       "    .dataframe tbody tr th {\n",
       "        vertical-align: top;\n",
       "    }\n",
       "\n",
       "    .dataframe thead th {\n",
       "        text-align: right;\n",
       "    }\n",
       "</style>\n",
       "<table border=\"1\" class=\"dataframe\">\n",
       "  <thead>\n",
       "    <tr style=\"text-align: right;\">\n",
       "      <th></th>\n",
       "      <th>DNI</th>\n",
       "      <th>IMPORTE</th>\n",
       "      <th>OPERADOR</th>\n",
       "    </tr>\n",
       "  </thead>\n",
       "  <tbody>\n",
       "    <tr>\n",
       "      <th>66</th>\n",
       "      <td>96033138</td>\n",
       "      <td>3000.0</td>\n",
       "      <td>IAMBERTI JOSEFINA</td>\n",
       "    </tr>\n",
       "    <tr>\n",
       "      <th>67</th>\n",
       "      <td>96033138</td>\n",
       "      <td>3000.0</td>\n",
       "      <td>IAMBERTI JOSEFINA</td>\n",
       "    </tr>\n",
       "    <tr>\n",
       "      <th>68</th>\n",
       "      <td>96033138</td>\n",
       "      <td>12010.0</td>\n",
       "      <td>IAMBERTI JOSEFINA</td>\n",
       "    </tr>\n",
       "  </tbody>\n",
       "</table>\n",
       "</div>"
      ],
      "text/plain": [
       "         DNI  IMPORTE           OPERADOR\n",
       "66  96033138   3000.0  IAMBERTI JOSEFINA\n",
       "67  96033138   3000.0  IAMBERTI JOSEFINA\n",
       "68  96033138  12010.0  IAMBERTI JOSEFINA"
      ]
     },
     "execution_count": 217,
     "metadata": {},
     "output_type": "execute_result"
    }
   ],
   "source": [
    "df_merge[df_merge['DNI'] == 96033138]"
   ]
  },
  {
   "cell_type": "code",
   "execution_count": 234,
   "metadata": {},
   "outputs": [],
   "source": [
    "#df_sin_gestion debe tener las columnas:\n",
    "#DNI - IMPORTE - Asignado - Gestionado\n",
    "df_merge.rename({'OPERADOR': 'ASIGNADO'}, axis=1, inplace=True)\n",
    "#df_merge['GESTIONADO'] = 'Op'\n",
    "df_merge.to_excel('M:/PAGOS/__Pagos/Pagos_Test/Pagos_Test/bin/Temp/MejorCredito/Resultados/df_sin_gestion.xlsx', index=False)"
   ]
  },
  {
   "cell_type": "code",
   "execution_count": 235,
   "metadata": {},
   "outputs": [
    {
     "name": "stdout",
     "output_type": "stream",
     "text": [
      "(80, 2)\n"
     ]
    }
   ],
   "source": [
    "#Busco los registros del cierre que NO están en la distribución\n",
    "lista_dnis = list(df['DNI']) #dnis de la distribución\n",
    "df_nuevo2 = pd.DataFrame({})\n",
    "for index_dfc in range(len(df_nuevo)):\n",
    "    if df_nuevo.iloc[index_dfc]['DNI'] not in lista_dnis:\n",
    "        registro = pd.DataFrame({\n",
    "            'DNI': [df_nuevo.iloc[index_dfc]['DNI']],\n",
    "            'IMPORTE': [df_nuevo.iloc[index_dfc]['IMPORTE']],\n",
    "            #'SALDO': [df_nuevo.iloc[index_dfc]['SALDO']],\n",
    "            #'Operador': 'Melanie Gonzalez'\n",
    "            })\n",
    "        df_nuevo2 = pd.concat([df_nuevo2, registro])\n",
    "        #Elimino el dni de la lista\n",
    "        #lista_dnis.remove(df.iloc[index_dfc]['DNI'])\n",
    "#df_resto = pd.DataFrame({'DNI': lista_dnis})\n",
    "#df_nuevo son los registros del cierre que no son válidos\n",
    "print(df_nuevo2.shape)\n",
    "df_nuevo2.to_excel('M:/PAGOS/__Pagos/Pagos_Test/Pagos_Test/bin/Temp/MejorCredito/Resultados/df_dni_no_distribuido.xlsx', index=False)"
   ]
  },
  {
   "cell_type": "code",
   "execution_count": 1,
   "metadata": {},
   "outputs": [
    {
     "data": {
      "text/html": [
       "<div>\n",
       "<style scoped>\n",
       "    .dataframe tbody tr th:only-of-type {\n",
       "        vertical-align: middle;\n",
       "    }\n",
       "\n",
       "    .dataframe tbody tr th {\n",
       "        vertical-align: top;\n",
       "    }\n",
       "\n",
       "    .dataframe thead th {\n",
       "        text-align: right;\n",
       "    }\n",
       "</style>\n",
       "<table border=\"1\" class=\"dataframe\">\n",
       "  <thead>\n",
       "    <tr style=\"text-align: right;\">\n",
       "      <th></th>\n",
       "      <th>Col1</th>\n",
       "    </tr>\n",
       "  </thead>\n",
       "  <tbody>\n",
       "    <tr>\n",
       "      <th>0</th>\n",
       "      <td>1</td>\n",
       "    </tr>\n",
       "    <tr>\n",
       "      <th>1</th>\n",
       "      <td>2</td>\n",
       "    </tr>\n",
       "    <tr>\n",
       "      <th>2</th>\n",
       "      <td>3</td>\n",
       "    </tr>\n",
       "    <tr>\n",
       "      <th>3</th>\n",
       "      <td>4</td>\n",
       "    </tr>\n",
       "    <tr>\n",
       "      <th>4</th>\n",
       "      <td>5</td>\n",
       "    </tr>\n",
       "  </tbody>\n",
       "</table>\n",
       "</div>"
      ],
      "text/plain": [
       "   Col1\n",
       "0     1\n",
       "1     2\n",
       "2     3\n",
       "3     4\n",
       "4     5"
      ]
     },
     "execution_count": 1,
     "metadata": {},
     "output_type": "execute_result"
    }
   ],
   "source": [
    "import pandas as pd \n",
    "df = pd.DataFrame({'Col1': [1,2,3,4,5]})\n",
    "df"
   ]
  },
  {
   "cell_type": "code",
   "execution_count": 5,
   "metadata": {},
   "outputs": [
    {
     "data": {
      "text/html": [
       "<div>\n",
       "<style scoped>\n",
       "    .dataframe tbody tr th:only-of-type {\n",
       "        vertical-align: middle;\n",
       "    }\n",
       "\n",
       "    .dataframe tbody tr th {\n",
       "        vertical-align: top;\n",
       "    }\n",
       "\n",
       "    .dataframe thead th {\n",
       "        text-align: right;\n",
       "    }\n",
       "</style>\n",
       "<table border=\"1\" class=\"dataframe\">\n",
       "  <thead>\n",
       "    <tr style=\"text-align: right;\">\n",
       "      <th></th>\n",
       "      <th>Col1</th>\n",
       "    </tr>\n",
       "  </thead>\n",
       "  <tbody>\n",
       "    <tr>\n",
       "      <th>2</th>\n",
       "      <td>3</td>\n",
       "    </tr>\n",
       "    <tr>\n",
       "      <th>3</th>\n",
       "      <td>4</td>\n",
       "    </tr>\n",
       "    <tr>\n",
       "      <th>4</th>\n",
       "      <td>5</td>\n",
       "    </tr>\n",
       "  </tbody>\n",
       "</table>\n",
       "</div>"
      ],
      "text/plain": [
       "   Col1\n",
       "2     3\n",
       "3     4\n",
       "4     5"
      ]
     },
     "execution_count": 5,
     "metadata": {},
     "output_type": "execute_result"
    }
   ],
   "source": [
    "df2 = df[df['Col1'] >= 3]\n",
    "df2"
   ]
  },
  {
   "cell_type": "code",
   "execution_count": 4,
   "metadata": {},
   "outputs": [
    {
     "data": {
      "text/html": [
       "<div>\n",
       "<style scoped>\n",
       "    .dataframe tbody tr th:only-of-type {\n",
       "        vertical-align: middle;\n",
       "    }\n",
       "\n",
       "    .dataframe tbody tr th {\n",
       "        vertical-align: top;\n",
       "    }\n",
       "\n",
       "    .dataframe thead th {\n",
       "        text-align: right;\n",
       "    }\n",
       "</style>\n",
       "<table border=\"1\" class=\"dataframe\">\n",
       "  <thead>\n",
       "    <tr style=\"text-align: right;\">\n",
       "      <th></th>\n",
       "      <th>Col1</th>\n",
       "    </tr>\n",
       "  </thead>\n",
       "  <tbody>\n",
       "    <tr>\n",
       "      <th>2</th>\n",
       "      <td>3</td>\n",
       "    </tr>\n",
       "    <tr>\n",
       "      <th>3</th>\n",
       "      <td>4</td>\n",
       "    </tr>\n",
       "    <tr>\n",
       "      <th>4</th>\n",
       "      <td>5</td>\n",
       "    </tr>\n",
       "  </tbody>\n",
       "</table>\n",
       "</div>"
      ],
      "text/plain": [
       "   Col1\n",
       "2     3\n",
       "3     4\n",
       "4     5"
      ]
     },
     "execution_count": 4,
     "metadata": {},
     "output_type": "execute_result"
    }
   ],
   "source": [
    "df2 = df.query(\"Col1 >= 3\")\n",
    "df2"
   ]
  },
  {
   "attachments": {},
   "cell_type": "markdown",
   "metadata": {},
   "source": [
    "Escribir una función que convierta un número decimal en binario y otra que convierta un número binario en decimal."
   ]
  },
  {
   "cell_type": "code",
   "execution_count": 12,
   "metadata": {},
   "outputs": [
    {
     "data": {
      "text/plain": [
       "43"
      ]
     },
     "execution_count": 12,
     "metadata": {},
     "output_type": "execute_result"
    }
   ],
   "source": [
    "num = '101011'\n",
    "def aBinario(num):\n",
    "    binario = bin(num)\n",
    "    return int(binario[2:])\n",
    "\n",
    "def aDecimal(num):\n",
    "    decimal = int(num, 2)\n",
    "    return decimal\n",
    "\n",
    "aDecimal(num)"
   ]
  },
  {
   "cell_type": "code",
   "execution_count": 1,
   "metadata": {},
   "outputs": [
    {
     "name": "stdout",
     "output_type": "stream",
     "text": [
      "29\n"
     ]
    }
   ],
   "source": [
    "num_binario = '11101'\n",
    "a_decimal = int(num_binario, 2)\n",
    "print(a_decimal)"
   ]
  },
  {
   "cell_type": "code",
   "execution_count": 3,
   "metadata": {},
   "outputs": [
    {
     "name": "stdout",
     "output_type": "stream",
     "text": [
      "11101\n"
     ]
    }
   ],
   "source": [
    "decimal = 29\n",
    "a_binario = bin(decimal)\n",
    "print(a_binario[2:])"
   ]
  }
 ],
 "metadata": {
  "kernelspec": {
   "display_name": "Python 3.10.5 64-bit",
   "language": "python",
   "name": "python3"
  },
  "language_info": {
   "codemirror_mode": {
    "name": "ipython",
    "version": 3
   },
   "file_extension": ".py",
   "mimetype": "text/x-python",
   "name": "python",
   "nbconvert_exporter": "python",
   "pygments_lexer": "ipython3",
   "version": "3.10.5"
  },
  "orig_nbformat": 4,
  "vscode": {
   "interpreter": {
    "hash": "6ee10d5a94323f275e5d9aabe383f651e0207d37fb57c0f216d6b1c1a4073c8b"
   }
  }
 },
 "nbformat": 4,
 "nbformat_minor": 2
}
